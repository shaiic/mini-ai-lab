{
 "cells": [
  {
   "cell_type": "markdown",
   "metadata": {
    "Collapsed": "false"
   },
   "source": [
    "<br>\n",
    "<br>\n",
    "<center>\n",
    "    \n",
    "# 人工智能高阶人才培训班\n",
    "\n",
    "<br>\n",
    "\n",
    "> ## 第三课：深度学习基础设施与工具(1)\n",
    "</center>\n",
    "<br>"
   ]
  },
  {
   "cell_type": "markdown",
   "metadata": {
    "Collapsed": "true"
   },
   "source": [
    "## Part 1 TensorFlow基础"
   ]
  },
  {
   "cell_type": "markdown",
   "metadata": {
    "Collapsed": "true"
   },
   "source": [
    "### 1.1 TensorFlow的安装"
   ]
  },
  {
   "cell_type": "markdown",
   "metadata": {
    "Collapsed": "false"
   },
   "source": [
    "```python\n",
    "# Current stable release for CPU-only\n",
    "pip install tensorflow==2.0.0\n",
    "\n",
    "# Preview nightly build for CPU-only (unstable)\n",
    "pip install tf-nightly\n",
    "\n",
    "# Install TensorFlow 2.0 GPU version\n",
    "pip install tensorflow-gpu==2.0.0\n",
    "```"
   ]
  },
  {
   "cell_type": "markdown",
   "metadata": {
    "Collapsed": "false",
    "heading_collapsed": true
   },
   "source": [
    "### 1.2查看版本"
   ]
  },
  {
   "cell_type": "code",
   "execution_count": 22,
   "metadata": {
    "Collapsed": "false",
    "hidden": true
   },
   "outputs": [
    {
     "data": {
      "text/plain": [
       "'2.0.0'"
      ]
     },
     "execution_count": 22,
     "metadata": {},
     "output_type": "execute_result"
    }
   ],
   "source": [
    "import tensorflow as tf\n",
    "tf.__version__"
   ]
  },
  {
   "cell_type": "markdown",
   "metadata": {
    "Collapsed": "true"
   },
   "source": [
    "### 1.3 Hello World"
   ]
  },
  {
   "cell_type": "code",
   "execution_count": 94,
   "metadata": {
    "Collapsed": "false"
   },
   "outputs": [
    {
     "name": "stdout",
     "output_type": "stream",
     "text": [
      "tf.Tensor(b'Hello, TensorFlow!', shape=(), dtype=string)\n"
     ]
    }
   ],
   "source": [
    "# Create a constant op\n",
    "# This op is added as a node to the default graph\n",
    "hello = tf.constant(\"Hello, TensorFlow!\")\n",
    "#\n",
    "print(hello)"
   ]
  },
  {
   "cell_type": "markdown",
   "metadata": {
    "Collapsed": "false"
   },
   "source": [
    "> b’String’  ‘b’ indicates Bytes literals.  http://stackoverflow.com/questions/6269765/"
   ]
  },
  {
   "cell_type": "code",
   "execution_count": 95,
   "metadata": {
    "Collapsed": "false"
   },
   "outputs": [
    {
     "name": "stdout",
     "output_type": "stream",
     "text": [
      "tf.Tensor([[4.]], shape=(1, 1), dtype=float32)\n"
     ]
    }
   ],
   "source": [
    "x = [[2.]]\n",
    "m = tf.square(x)\n",
    "print(m)"
   ]
  },
  {
   "cell_type": "markdown",
   "metadata": {
    "Collapsed": "false"
   },
   "source": [
    "调用`.numpy`方法可以实现tensor和ndarray之间转换"
   ]
  },
  {
   "cell_type": "code",
   "execution_count": 102,
   "metadata": {
    "Collapsed": "false"
   },
   "outputs": [
    {
     "data": {
      "text/plain": [
       "array([[4.]], dtype=float32)"
      ]
     },
     "execution_count": 102,
     "metadata": {},
     "output_type": "execute_result"
    }
   ],
   "source": [
    "m.numpy()"
   ]
  },
  {
   "cell_type": "code",
   "execution_count": 104,
   "metadata": {
    "Collapsed": "false"
   },
   "outputs": [
    {
     "name": "stdout",
     "output_type": "stream",
     "text": [
      "a * b = \n",
      " [[ 8  9]\n",
      " [18 19]]\n"
     ]
    }
   ],
   "source": [
    "a = tf.constant([[1, 2],\n",
    "                 [3, 4]])\n",
    "\n",
    "b = tf.constant([[2, 1],\n",
    "                 [3, 4]])\n",
    "\n",
    "ab = tf.matmul(a, b)\n",
    "\n",
    "print('a * b = \\n', ab.numpy())"
   ]
  },
  {
   "cell_type": "markdown",
   "metadata": {
    "Collapsed": "false"
   },
   "source": [
    "### 1.4 EveryThing is Tensor\n",
    "> 在人工智能领域只有一种类型数据，它的名字叫做『Tensor』"
   ]
  },
  {
   "cell_type": "markdown",
   "metadata": {
    "Collapsed": "false"
   },
   "source": [
    "![](img/tensor_rank.png)"
   ]
  },
  {
   "cell_type": "markdown",
   "metadata": {
    "Collapsed": "false"
   },
   "source": [
    "#### 1. 标量（0D 张量）\n",
    "仅包含一个数字的张量叫作标量（scalar，也叫标量张量、零维张量、0D 张量）。"
   ]
  },
  {
   "cell_type": "code",
   "execution_count": 1,
   "metadata": {
    "Collapsed": "false"
   },
   "outputs": [
    {
     "data": {
      "text/plain": [
       "array(888)"
      ]
     },
     "execution_count": 1,
     "metadata": {},
     "output_type": "execute_result"
    }
   ],
   "source": [
    "import numpy as np\n",
    "x = np.array(888)\n",
    "x"
   ]
  },
  {
   "cell_type": "code",
   "execution_count": 2,
   "metadata": {
    "Collapsed": "false"
   },
   "outputs": [
    {
     "data": {
      "text/plain": [
       "0"
      ]
     },
     "execution_count": 2,
     "metadata": {},
     "output_type": "execute_result"
    }
   ],
   "source": [
    "x.ndim"
   ]
  },
  {
   "cell_type": "markdown",
   "metadata": {
    "Collapsed": "false"
   },
   "source": [
    "#### 2. 向量(1D 张量)\n",
    "数字组成的数组叫作向量（vector）或一维张量（1D 张量）"
   ]
  },
  {
   "cell_type": "code",
   "execution_count": 4,
   "metadata": {
    "Collapsed": "false"
   },
   "outputs": [
    {
     "name": "stdout",
     "output_type": "stream",
     "text": [
      "[12  3  6 14  7]\n",
      "1\n"
     ]
    }
   ],
   "source": [
    "x = np.array([12, 3, 6, 14, 7])\n",
    "print(x)\n",
    "print(x.ndim)"
   ]
  },
  {
   "cell_type": "markdown",
   "metadata": {
    "Collapsed": "false"
   },
   "source": [
    "#### 3. 矩阵(2D 张量)\n",
    "向量组成的数组叫作矩阵（matrix）或二维张量（2D 张量）。"
   ]
  },
  {
   "cell_type": "code",
   "execution_count": 6,
   "metadata": {
    "Collapsed": "false"
   },
   "outputs": [
    {
     "name": "stdout",
     "output_type": "stream",
     "text": [
      "2\n"
     ]
    }
   ],
   "source": [
    "x = np.array([\n",
    "    [5, 78, 2, 34, 0],\n",
    "    [6, 79, 3, 35, 1], \n",
    "    [7, 80, 4, 36, 2]])\n",
    "print(x.ndim)"
   ]
  },
  {
   "cell_type": "markdown",
   "metadata": {
    "Collapsed": "false"
   },
   "source": [
    "#### 4. 3D张量与更高维张量\n",
    "将多个矩阵组合成一个新的数组，可以得到一个 3D 张量，你可以将其直观地理解为数字组成的立方体。"
   ]
  },
  {
   "cell_type": "code",
   "execution_count": 8,
   "metadata": {
    "Collapsed": "false"
   },
   "outputs": [
    {
     "name": "stdout",
     "output_type": "stream",
     "text": [
      "3\n",
      "(3, 3, 5)\n"
     ]
    }
   ],
   "source": [
    "x = np.array([[[5, 78, 2, 34, 0],\n",
    "               [6, 79, 3, 35, 1], \n",
    "               [7, 80, 4, 36, 2]], \n",
    "              [[5, 78, 2, 34, 0], \n",
    "               [6, 79, 3, 35, 1], \n",
    "               [7, 80, 4, 36, 2]],\n",
    "              [[5, 78, 2, 34, 0],\n",
    "               [6, 79, 3, 35, 1], \n",
    "               [7, 80, 4, 36, 2]]])\n",
    "print(x.ndim)\n",
    "print(x.shape)"
   ]
  },
  {
   "cell_type": "markdown",
   "metadata": {
    "Collapsed": "false"
   },
   "source": [
    "张量是由以下三个关键属性来定义的: \n",
    "\n",
    " 轴的个数（阶）。例如，3D 张量有 3 个轴，矩阵有 2 个轴。这在 Numpy 等 Python 库中 也叫张量的 `ndim`。\n",
    "\n",
    " 形状。这是一个整数元组，表示张量沿每个轴的维度大小（元素个数）。例如，前面矩阵示例的形状为(3, 5)，3D 张量示例的形状为(3, 3, 5)。向量的形状只包含一个元素，比如 (5,)，而标量的形状为空，即 ()。\n",
    "\n",
    " 数据类型（在 Python 库中通常叫作 dtype）。这是张量中所包含数据的类型，例如，张量的类型可以是 float32、uint8、float64 等。在极少数情况下，你可能会遇到字符\n",
    "（char）张量。注意，Numpy（以及大多数其他库）中不存在字符串张量，因为张量存储在预先分配的连续内存段中，而字符串的长度是可变的，无法用这种方式存储。"
   ]
  },
  {
   "cell_type": "markdown",
   "metadata": {
    "Collapsed": "false"
   },
   "source": [
    "#### 现实世界中的数据张量\n",
    "- 向量数据：2D 张量，形状为 (samples, features)。\n",
    "\n",
    "- 时间序列数据或序列数据：3D 张量，形状为 (samples, timesteps, features)。 \n",
    "\n",
    "- 图像：4D张量，形状为(samples, height, width, channels)或(samples, channels, height, width)。\n",
    "\n",
    "- 视频：5D张量，形状为(samples, frames, height, width, channels)或(samples, frames, channels, height, width)。"
   ]
  },
  {
   "cell_type": "markdown",
   "metadata": {
    "Collapsed": "false"
   },
   "source": [
    "##### 向量数据\n",
    "这是最常见的数据。对于这种数据集，每个数据点都被编码为一个向量，因此一个数据批量就被编码为 2D 张量（即向量组成的数组），其中第一个轴是样本轴，第二个轴是特征轴。\n",
    "\n",
    "我们来看两个例子。 \n",
    "\n",
    "- 人口统计数据集，其中包括每个人的年龄、邮编和收入。每个人可以表示为包含 3 个值 的向量，而整个数据集包含 100 000 个人，因此可以存储在形状为 (100000, 3) 的 2D 张量中。\n",
    "\n",
    "- 文本文档数据集，我们将每个文档表示为每个单词在其中出现的次数（字典中包含 20 000 个常见单词）。每个文档可以被编码为包含 20 000 个值的向量（每个值对应于 字典中每个单词的出现次数），整个数据集包含 500 个文档，因此可以存储在形状为 (500, 20000) 的张量中。"
   ]
  },
  {
   "cell_type": "markdown",
   "metadata": {
    "Collapsed": "false"
   },
   "source": [
    "##### 时间序列数据或序列数据\n",
    "![111111](img/time_serial_data.png)\n",
    "\n",
    "**举例**：\n",
    "- 股票价格数据集。每一分钟，我们将股票的当前价格、前一分钟的最高价格和前一分钟 的最低价格保存下来。因此每分钟被编码为一个 3D 向量，整个交易日被编码为一个形 状为(390, 3)的 2D 张量（一个交易日有 390 分钟），而 250 天的数据则可以保存在一 个形状为(250, 390, 3)的 3D 张量中。这里每个样本是一天的股票数据。\n",
    "\n",
    "- 推文数据集。我们将每条推文编码为 280 个字符组成的序列，而每个字符又来自于 128 个字符组成的字母表。在这种情况下，每个字符可以被编码为大小为 128 的二进制向量 （只有在该字符对应的索引位置取值为 1，其他元素都为 0）。那么每条推文可以被编码 为一个形状为 (280, 128) 的 2D 张量，而包含 100 万条推文的数据集则可以存储在一 个形状为 (1000000, 280, 128) 的张量中。"
   ]
  },
  {
   "cell_type": "markdown",
   "metadata": {
    "Collapsed": "false"
   },
   "source": [
    "##### 图像数据\n",
    "![](img/image_data.png)\n",
    "\n",
    "**举例**：\n",
    "\n",
    "如果图像大小为 256×256，那么 128 张灰度图像组成的批 量可以保存在一个形状为(128, 256, 256, 1)的张量中，而 128 张彩色图像组成的批量则可以保存在一个形状为(128, 256, 256, 3)的张量中。"
   ]
  },
  {
   "cell_type": "code",
   "execution_count": 11,
   "metadata": {
    "Collapsed": "false"
   },
   "outputs": [],
   "source": [
    "from sklearn.datasets import load_digits\n",
    "digits = load_digits()"
   ]
  },
  {
   "cell_type": "code",
   "execution_count": 12,
   "metadata": {
    "Collapsed": "false"
   },
   "outputs": [
    {
     "name": "stdout",
     "output_type": "stream",
     "text": [
      "images shape: (1797, 8, 8)\n",
      "targets shape: (1797,)\n"
     ]
    }
   ],
   "source": [
    "print(\"images shape: %s\" % str(digits.images.shape))\n",
    "print(\"targets shape: %s\" % str(digits.target.shape))"
   ]
  },
  {
   "cell_type": "code",
   "execution_count": 13,
   "metadata": {
    "Collapsed": "false"
   },
   "outputs": [],
   "source": [
    "img = digits.images[0]"
   ]
  },
  {
   "cell_type": "code",
   "execution_count": 14,
   "metadata": {
    "Collapsed": "false"
   },
   "outputs": [
    {
     "data": {
      "image/png": "[encoded data removed]",
      "text/plain": [
       "<Figure size 288x288 with 1 Axes>"
      ]
     },
     "metadata": {
      "needs_background": "light"
     },
     "output_type": "display_data"
    }
   ],
   "source": [
    "import matplotlib.pyplot as plt\n",
    "%matplotlib inline\n",
    "plt.matshow(img, cmap=plt.cm.Greys);"
   ]
  },
  {
   "cell_type": "code",
   "execution_count": 15,
   "metadata": {
    "Collapsed": "false"
   },
   "outputs": [
    {
     "data": {
      "text/plain": [
       "(8, 8)"
      ]
     },
     "execution_count": 15,
     "metadata": {},
     "output_type": "execute_result"
    }
   ],
   "source": [
    "img.shape"
   ]
  },
  {
   "cell_type": "code",
   "execution_count": 16,
   "metadata": {
    "Collapsed": "false"
   },
   "outputs": [
    {
     "data": {
      "text/plain": [
       "array([[ 0.,  0.,  5., 13.,  9.,  1.,  0.,  0.],\n",
       "       [ 0.,  0., 13., 15., 10., 15.,  5.,  0.],\n",
       "       [ 0.,  3., 15.,  2.,  0., 11.,  8.,  0.],\n",
       "       [ 0.,  4., 12.,  0.,  0.,  8.,  8.,  0.],\n",
       "       [ 0.,  5.,  8.,  0.,  0.,  9.,  8.,  0.],\n",
       "       [ 0.,  4., 11.,  0.,  1., 12.,  7.,  0.],\n",
       "       [ 0.,  2., 14.,  5., 10., 12.,  0.,  0.],\n",
       "       [ 0.,  0.,  6., 13., 10.,  0.,  0.,  0.]])"
      ]
     },
     "execution_count": 16,
     "metadata": {},
     "output_type": "execute_result"
    }
   ],
   "source": [
    "img"
   ]
  },
  {
   "cell_type": "markdown",
   "metadata": {
    "Collapsed": "false"
   },
   "source": [
    "**数据批量的概念（Batch Size）**"
   ]
  },
  {
   "cell_type": "code",
   "execution_count": 18,
   "metadata": {
    "Collapsed": "false"
   },
   "outputs": [],
   "source": [
    "batch01 = digits.images[:128]\n",
    "batch02 = digits.images[128:256]"
   ]
  },
  {
   "cell_type": "code",
   "execution_count": 19,
   "metadata": {
    "Collapsed": "false"
   },
   "outputs": [],
   "source": [
    "from PIL import Image\n",
    "color_img = Image.open(\"img/logo.jpg\")"
   ]
  },
  {
   "cell_type": "code",
   "execution_count": 20,
   "metadata": {
    "Collapsed": "false"
   },
   "outputs": [
    {
     "data": {
      "text/plain": [
       "<matplotlib.image.AxesImage at 0x7f9265904b00>"
      ]
     },
     "execution_count": 20,
     "metadata": {},
     "output_type": "execute_result"
    },
    {
     "data": {
      "image/png": "[encoded data removed]",
      "text/plain": [
       "<Figure size 432x288 with 1 Axes>"
      ]
     },
     "metadata": {
      "needs_background": "light"
     },
     "output_type": "display_data"
    }
   ],
   "source": [
    "plt.imshow(color_img)"
   ]
  },
  {
   "cell_type": "code",
   "execution_count": 21,
   "metadata": {
    "Collapsed": "false"
   },
   "outputs": [
    {
     "data": {
      "text/plain": [
       "(220, 507, 3)"
      ]
     },
     "execution_count": 21,
     "metadata": {},
     "output_type": "execute_result"
    }
   ],
   "source": [
    "import numpy as np\n",
    "color_img = np.array(color_img)\n",
    "color_img.shape"
   ]
  },
  {
   "cell_type": "markdown",
   "metadata": {
    "Collapsed": "false"
   },
   "source": [
    "##### 视频数据\n",
    "\n",
    "视频可以看作一系列帧， 每一帧都是一张彩色图像。由于每一帧都可以保存在一个形状为 (height, width, color_ depth) 的 3D 张量中，因此一系列帧可以保存在一个形状为 (frames, height, width, color_depth) 的 4D 张量中，而不同视频组成的批量则可以保存在一个 5D 张量中，其形状为 (samples, frames, height, width, color_depth)。"
   ]
  },
  {
   "cell_type": "markdown",
   "metadata": {
    "Collapsed": "false"
   },
   "source": [
    "**举例**：\n",
    "一个以每秒 4 帧采样的 60 秒视频片段，视频尺寸为 144×256，这个\n",
    "视频共有 240 帧。4 个这样的视频片段组成的批量将保存在形状为(4, 240, 144, 256, 3) 的张量中。总共有 106 168 320 个值！如果张量的数据类型（dtype）是 float32，每个值都是 32 位，那么这个张量共有 405MB。"
   ]
  },
  {
   "cell_type": "markdown",
   "metadata": {
    "Collapsed": "true"
   },
   "source": [
    "#### TensorFlow中的数据表示"
   ]
  },
  {
   "cell_type": "markdown",
   "metadata": {
    "Collapsed": "false"
   },
   "source": [
    "> tf.constant creates a tf.Tensor from a fixed value\n",
    "> you can read more here:\n",
    ">  https://www.tensorflow.org/api_docs/python/tf/constant"
   ]
  },
  {
   "cell_type": "code",
   "execution_count": 105,
   "metadata": {
    "Collapsed": "false"
   },
   "outputs": [
    {
     "name": "stdout",
     "output_type": "stream",
     "text": [
      "tf.Tensor(4, shape=(), dtype=int32)\n",
      "tf.Tensor([1 2 3], shape=(3,), dtype=int32)\n",
      "tf.Tensor(\n",
      "[[1 2]\n",
      " [3 4]\n",
      " [5 6]], shape=(3, 2), dtype=int32)\n",
      "tf.Tensor(\n",
      "[[[0 0]\n",
      "  [0 1]\n",
      "  [0 2]]\n",
      "\n",
      " [[1 0]\n",
      "  [1 1]\n",
      "  [1 2]]\n",
      "\n",
      " [[2 0]\n",
      "  [2 1]\n",
      "  [2 2]]], shape=(3, 3, 2), dtype=int32)\n"
     ]
    }
   ],
   "source": [
    "# 0-D tensor (scalar)\n",
    "t_0d_py = 4\n",
    "\n",
    "# 1-D tensor (vector)\n",
    "t_1d_py = [1, 2, 3]\n",
    "\n",
    "# 2-D tensor (matrix)\n",
    "t_2d_py = [[1, 2], \n",
    "           [3, 4], \n",
    "           [5, 6]]\n",
    "\n",
    "# 3-D tensor\n",
    "t_3d_py = [[[0, 0], [0, 1], [0, 2]],\n",
    "           [[1, 0], [1, 1], [1, 2]],\n",
    "           [[2, 0], [2, 1], [2, 2]]]\n",
    "\n",
    "python_defined_tensors = [t_0d_py, t_1d_py, t_2d_py, t_3d_py]\n",
    "\n",
    "for pdt in python_defined_tensors:\n",
    "    print(tf.constant(pdt))"
   ]
  },
  {
   "cell_type": "markdown",
   "metadata": {
    "Collapsed": "true"
   },
   "source": [
    "#### 联想：NumPy Arrays\n",
    "tensorflow中的`Tensor`和`numpy.array`定义的矩阵是等价的"
   ]
  },
  {
   "cell_type": "code",
   "execution_count": 5,
   "metadata": {
    "Collapsed": "false"
   },
   "outputs": [
    {
     "name": "stdout",
     "output_type": "stream",
     "text": [
      "tf.Tensor(4, shape=(), dtype=int32)\n",
      "tf.Tensor([1 2 3], shape=(3,), dtype=int64)\n",
      "tf.Tensor(\n",
      "[[1. 2.]\n",
      " [3. 4.]\n",
      " [5. 6.]], shape=(3, 2), dtype=float32)\n",
      "tf.Tensor(\n",
      "[[[0 0]\n",
      "  [0 1]\n",
      "  [0 2]]\n",
      "\n",
      " [[1 0]\n",
      "  [1 1]\n",
      "  [1 2]]\n",
      "\n",
      " [[2 0]\n",
      "  [2 1]\n",
      "  [2 2]]], shape=(3, 3, 2), dtype=int32)\n"
     ]
    }
   ],
   "source": [
    "import numpy as np\n",
    "# 0-D tensor (scalar)\n",
    "t_0d_np = np.array(4, dtype=np.int32)\n",
    "\n",
    "# 1-D tensor (vector)\n",
    "t_1d_np = np.array([1, 2, 3], dtype=np.int64)\n",
    "\n",
    "# 2-D tensor (matrix)\n",
    "t_2d_np = np.array([[1, 2], \n",
    "                    [3, 4], \n",
    "                    [5, 6]],\n",
    "                   dtype=np.float32)\n",
    "\n",
    "# 3-D tensor\n",
    "t_3d_np = np.array([[[0, 0], [0, 1], [0, 2]],\n",
    "                    [[1, 0], [1, 1], [1, 2]],\n",
    "                    [[2, 0], [2, 1], [2, 2]]],\n",
    "                   dtype=np.int32)\n",
    "\n",
    "numpy_defined_tensors = [t_0d_np, t_1d_np, t_2d_np, t_3d_np]\n",
    "\n",
    "for ndt in numpy_defined_tensors:\n",
    "    print(tf.constant(ndt))"
   ]
  },
  {
   "cell_type": "markdown",
   "metadata": {
    "Collapsed": "true"
   },
   "source": [
    "#### 关于数据类型\n",
    "\n",
    "通常，建议在TensorFlow中使用`np.array`（或`np.asarray`）手动定义张量的值。这样做的主要原因是，您可以指定希望使用其表示值的确切数据类型（`dtype`）。TensorFlow与NumPy紧密集成，大多数TensorFlow数据类型具有对应的NumPy `dtype`。\n",
    "\n",
    "\n",
    "TensorFlow中数据类型 | 对应的NumPy中数据类型 | 描述\n",
    "--- | --- | ---\n",
    "`tf.float32` | `np.float32` | 32 bit floating point.\n",
    "`tf.float64` | `np.float64` | 64 bit floating point.\n",
    "`tf.int8` | `np.int8` | 8 bit signed integer.\n",
    "`tf.int16` | `np.int16` | 16 bit signed integer.\n",
    "`tf.int32` | `np.int32` | 32 bit signed integer.\n",
    "`tf.int64` | `np.int64` | 64 bit signed integer.\n",
    "`tf.uint8` | `np.uint8` | 8 bit unsigned integer.\n",
    "`tf.string` | N/A | String type, as byte array\n",
    "`tf.bool` | `np.bool` | Boolean.\n",
    "`tf.complex64` | `np.complex64` | Complex number made of two 32 bit floating point numbers: real and imaginary parts.\n",
    "`tf.qint8` | N/A | 8 bit signed integer used in quantized Ops.\n",
    "`tf.qint32` | N/A | 32 bit signed integer used in quantized Ops.\n",
    "`tf.quint8` | N/A | 8 bit unsigned integer used in quantized Ops.\n"
   ]
  },
  {
   "cell_type": "code",
   "execution_count": 6,
   "metadata": {
    "Collapsed": "false"
   },
   "outputs": [
    {
     "data": {
      "text/plain": [
       "True"
      ]
     },
     "execution_count": 6,
     "metadata": {},
     "output_type": "execute_result"
    }
   ],
   "source": [
    "# Just to show that they are equivalent\n",
    "(tf.float32 == np.float32 and\n",
    " tf.float64 == np.float64 and\n",
    " tf.int8 == np.int8 and\n",
    " tf.int16 == np.int16 and\n",
    " tf.int32 == np.int32 and\n",
    " tf.int64 == np.int64 and\n",
    " tf.uint8 == np.uint8 and\n",
    " tf.bool == np.bool and\n",
    " tf.complex64 == np.complex64)"
   ]
  },
  {
   "cell_type": "markdown",
   "metadata": {
    "Collapsed": "false"
   },
   "source": [
    "> 特别地，`np.array()`中不支持string类型，当需要定义string类型输入时，使用python的列表。"
   ]
  },
  {
   "cell_type": "code",
   "execution_count": null,
   "metadata": {
    "Collapsed": "false"
   },
   "outputs": [],
   "source": [
    "tf_string_tensor = [b\"first\", b\"second\", b\"third\"]"
   ]
  },
  {
   "cell_type": "markdown",
   "metadata": {
    "Collapsed": "true"
   },
   "source": [
    "#### 常量与变量\n",
    "*   `tf.constant`, 创建一个常量张量，常量中的值是不可变的。 \n",
    "*   `tf.Variable `, 此方法封装了一个可变张量，稍后可以使用assign对其进行更改\n"
   ]
  },
  {
   "cell_type": "markdown",
   "metadata": {
    "Collapsed": "false"
   },
   "source": [
    "创建一个常量"
   ]
  },
  {
   "cell_type": "code",
   "execution_count": 112,
   "metadata": {
    "Collapsed": "false"
   },
   "outputs": [
    {
     "name": "stdout",
     "output_type": "stream",
     "text": [
      "tf.Tensor([[2 3]], shape=(1, 2), dtype=int32)\n"
     ]
    }
   ],
   "source": [
    "a = tf.constant([[2,3]])\n",
    "print(a)"
   ]
  },
  {
   "cell_type": "markdown",
   "metadata": {
    "Collapsed": "false"
   },
   "source": [
    "常量无法被修改"
   ]
  },
  {
   "cell_type": "code",
   "execution_count": 113,
   "metadata": {
    "Collapsed": "false"
   },
   "outputs": [
    {
     "name": "stdout",
     "output_type": "stream",
     "text": [
      "Exception raised \n"
     ]
    }
   ],
   "source": [
    "try:\n",
    "  a.assign(2.)\n",
    "except:\n",
    "  print('Exception raised ')"
   ]
  },
  {
   "cell_type": "code",
   "execution_count": 114,
   "metadata": {
    "Collapsed": "false"
   },
   "outputs": [
    {
     "name": "stdout",
     "output_type": "stream",
     "text": [
      "Old value for v = 5.0\n",
      "New value for v = 2.0\n"
     ]
    }
   ],
   "source": [
    "v = tf.Variable(5.)\n",
    "\n",
    "print('Old value for v =', v.numpy())\n",
    "v.assign(2.)\n",
    "print('New value for v =', v.numpy())"
   ]
  },
  {
   "cell_type": "markdown",
   "metadata": {
    "Collapsed": "false"
   },
   "source": [
    "你可以像python变量一样，进行快速的递增、递减操作"
   ]
  },
  {
   "cell_type": "code",
   "execution_count": 115,
   "metadata": {
    "Collapsed": "false"
   },
   "outputs": [
    {
     "name": "stdout",
     "output_type": "stream",
     "text": [
      "value     :  2.0\n",
      "increment :  3.0\n",
      "decrement :  2.0\n"
     ]
    }
   ],
   "source": [
    "v.assign(2.)\n",
    "print('value     : ', v.numpy())\n",
    "print('increment : ', v.assign_add(1.).numpy())\n",
    "print('decrement : ', v.assign_sub(1.).numpy())"
   ]
  },
  {
   "cell_type": "code",
   "execution_count": 116,
   "metadata": {
    "Collapsed": "false",
    "scrolled": true
   },
   "outputs": [
    {
     "name": "stdout",
     "output_type": "stream",
     "text": [
      "name  :  Variable:0\n",
      "type  :  <dtype: 'float32'>\n",
      "shape :  ()\n",
      "device:  /job:localhost/replica:0/task:0/device:CPU:0\n"
     ]
    }
   ],
   "source": [
    "print('name  : ', v.name)\n",
    "print('type  : ', v.dtype)\n",
    "print('shape : ', v.shape)\n",
    "print('device: ', v.device)"
   ]
  },
  {
   "cell_type": "markdown",
   "metadata": {
    "Collapsed": "false"
   },
   "source": [
    "##### 扩展\n",
    "最常用的常量定义，比如定义全一或者全零的矩阵,使用`tf.ones`和`tf.zeros`"
   ]
  },
  {
   "cell_type": "code",
   "execution_count": 3,
   "metadata": {
    "Collapsed": "false"
   },
   "outputs": [
    {
     "name": "stdout",
     "output_type": "stream",
     "text": [
      "tf.Tensor(\n",
      "[[1.]\n",
      " [1.]], shape=(2, 1), dtype=float32)\n",
      "tf.Tensor(\n",
      "[[0.]\n",
      " [0.]], shape=(2, 1), dtype=float32)\n"
     ]
    }
   ],
   "source": [
    "print(tf.ones(shape=(2, 1)))\n",
    "print(tf.zeros(shape=(2, 1)))"
   ]
  },
  {
   "cell_type": "markdown",
   "metadata": {
    "Collapsed": "false"
   },
   "source": [
    "定义随机的常量数组，通过随机函数中的一些常用分布"
   ]
  },
  {
   "cell_type": "code",
   "execution_count": 4,
   "metadata": {
    "Collapsed": "false"
   },
   "outputs": [
    {
     "data": {
      "text/plain": [
       "<tf.Tensor: id=13, shape=(2, 2), dtype=float32, numpy=\n",
       "array([[-0.6541774, -0.9262661],\n",
       "       [ 1.254328 ,  0.5063441]], dtype=float32)>"
      ]
     },
     "execution_count": 4,
     "metadata": {},
     "output_type": "execute_result"
    }
   ],
   "source": [
    "tf.random.normal(shape=(2, 2), mean=0., stddev=1.)"
   ]
  },
  {
   "cell_type": "code",
   "execution_count": 5,
   "metadata": {
    "Collapsed": "false"
   },
   "outputs": [
    {
     "data": {
      "text/plain": [
       "<tf.Tensor: id=18, shape=(2, 2), dtype=int32, numpy=\n",
       "array([[0, 5],\n",
       "       [1, 5]], dtype=int32)>"
      ]
     },
     "execution_count": 5,
     "metadata": {},
     "output_type": "execute_result"
    }
   ],
   "source": [
    "tf.random.uniform(shape=(2, 2), minval=0, maxval=10, dtype='int32')"
   ]
  },
  {
   "cell_type": "markdown",
   "metadata": {
    "Collapsed": "true"
   },
   "source": [
    "### 1.5 计算图"
   ]
  },
  {
   "cell_type": "markdown",
   "metadata": {
    "Collapsed": "false"
   },
   "source": [
    "TensorFlow API中的主要构造是“计算图”。计算图是说明通过多个操作的数据流的简便方法。这是一个基本示例，显示了将两个数字相加的计算图：\n",
    "<img src=\"./img/01.png\" width=40%/>\n",
    "\n",
    "\n",
    "箭头表示流经图形的数据（在这种情况下为数字7、3和10），而节点表示某种形式的计算（在此情况下为加法）。 我们可以将这些计算中的多个链接在一起，以形成更复杂的数据转换：\n",
    "\n",
    "<img src=\"./img/02.png\" width=60%/>\n",
    "\n",
    "此处，数字3和7被发送到加法运算和乘法运算。然后将这两者的输出发送到减法运算。有几种方法可以说明上述操作。\n",
    "\n",
    "* 我们可以将其显示为单线数学方程式，使用括号显示操作顺序：\n",
    "$$\n",
    "output = \\left( 3 + 7 \\right) - \\left( 3 \\times 7 \\right) = -11\n",
    "$$\n",
    "\n",
    "* 我们还可以将单独的操作定义为数学函数：\n",
    "\n",
    "$$\n",
    "\\begin{split}\n",
    "a(x, y) &= x + y \\\\\n",
    "b(x, y) &= x \\times y \\\\\n",
    "c(x, y) &= a(x, y) - b(x, y) \\\\ \\\\\n",
    "c(3, 7) &= a(3, 7) - b(3, 7) = -11\n",
    "\\end{split}\n",
    "$$\n",
    "\n",
    "* 通过程序描述如下"
   ]
  },
  {
   "cell_type": "code",
   "execution_count": 106,
   "metadata": {
    "Collapsed": "false"
   },
   "outputs": [
    {
     "data": {
      "text/plain": [
       "-11"
      ]
     },
     "execution_count": 106,
     "metadata": {},
     "output_type": "execute_result"
    }
   ],
   "source": [
    "def add(x, y):\n",
    "    return x + y\n",
    "   \n",
    "def multiply(x, y):\n",
    "    return x * y\n",
    "    \n",
    "def subtract(x, y):\n",
    "    return x - y\n",
    "    \n",
    "x = 3\n",
    "y = 7\n",
    "a = add(x, y)\n",
    "b = multiply(x, y)\n",
    "c = subtract(a, b)\n",
    "\n",
    "c"
   ]
  },
  {
   "cell_type": "markdown",
   "metadata": {
    "Collapsed": "false"
   },
   "source": [
    "数据的使用不是一次性的，在整个计算中可以多次重用：\n",
    "\n",
    "<img src=\"./img/03.png\" width=70%/>\n",
    "\n",
    "该图类似于先前的模型，但是现在我们通过在最后添加3来重用3这个输入。代码可能看起来像这样："
   ]
  },
  {
   "cell_type": "code",
   "execution_count": 107,
   "metadata": {
    "Collapsed": "false"
   },
   "outputs": [
    {
     "data": {
      "text/plain": [
       "-8"
      ]
     },
     "execution_count": 107,
     "metadata": {},
     "output_type": "execute_result"
    }
   ],
   "source": [
    "x = 3\n",
    "y = 7\n",
    "a = add(x, y)\n",
    "b = multiply(x, y)\n",
    "c = subtract(a, b)\n",
    "d = add(c, x)\n",
    "\n",
    "d"
   ]
  },
  {
   "cell_type": "code",
   "execution_count": 23,
   "metadata": {
    "Collapsed": "false"
   },
   "outputs": [],
   "source": [
    "node1 = tf.constant(3.0, tf.float32)\n",
    "node2 = tf.constant(4.0) # also tf.float32 implicitly\n",
    "node3 = tf.add(node1, node2)"
   ]
  },
  {
   "cell_type": "code",
   "execution_count": 24,
   "metadata": {
    "Collapsed": "false"
   },
   "outputs": [
    {
     "name": "stdout",
     "output_type": "stream",
     "text": [
      "node1: tf.Tensor(3.0, shape=(), dtype=float32) \n",
      " node2: tf.Tensor(4.0, shape=(), dtype=float32)\n",
      "node3:  tf.Tensor(7.0, shape=(), dtype=float32)\n"
     ]
    }
   ],
   "source": [
    "print(\"node1:\", node1, \"\\n\", \"node2:\", node2)\n",
    "print(\"node3: \", node3)"
   ]
  },
  {
   "cell_type": "markdown",
   "metadata": {
    "Collapsed": "false"
   },
   "source": [
    "![Graph](https://www.tensorflow.org/images/getting_started_adder.png)"
   ]
  },
  {
   "cell_type": "markdown",
   "metadata": {
    "Collapsed": "true"
   },
   "source": [
    "### [TensorFlow 2.0] 使用`GradientTape` 计算梯度\n",
    "> 常量需要使用`tape.watch()`来追踪，变量默认记录相关梯度"
   ]
  },
  {
   "cell_type": "code",
   "execution_count": 25,
   "metadata": {
    "Collapsed": "false",
    "scrolled": true
   },
   "outputs": [
    {
     "name": "stdout",
     "output_type": "stream",
     "text": [
      "tf.Tensor(\n",
      "[[0.98641276 0.9987977 ]\n",
      " [0.99968123 0.89187855]], shape=(2, 2), dtype=float32)\n"
     ]
    }
   ],
   "source": [
    "a = tf.random.normal(shape=(2, 2))\n",
    "b = tf.random.normal(shape=(2, 2))\n",
    "\n",
    "with tf.GradientTape() as tape:\n",
    "  tape.watch(a)  # Start recording the history of operations applied to `a`\n",
    "  c = tf.sqrt(tf.square(a) + tf.square(b))  # Do some math using `a`\n",
    "  # What's the gradient of `c` with respect to `a`?\n",
    "  dc_da = tape.gradient(c, a)\n",
    "  print(dc_da)"
   ]
  },
  {
   "cell_type": "code",
   "execution_count": 26,
   "metadata": {
    "Collapsed": "false"
   },
   "outputs": [
    {
     "name": "stdout",
     "output_type": "stream",
     "text": [
      "tf.Tensor(\n",
      "[[0.98641276 0.9987977 ]\n",
      " [0.99968123 0.89187855]], shape=(2, 2), dtype=float32)\n"
     ]
    }
   ],
   "source": [
    "a = tf.Variable(a)\n",
    "\n",
    "with tf.GradientTape() as tape:\n",
    "  c = tf.sqrt(tf.square(a) + tf.square(b))\n",
    "  dc_da = tape.gradient(c, a)\n",
    "  print(dc_da)"
   ]
  },
  {
   "cell_type": "code",
   "execution_count": null,
   "metadata": {
    "Collapsed": "false"
   },
   "outputs": [],
   "source": []
  },
  {
   "cell_type": "markdown",
   "metadata": {
    "Collapsed": "true",
    "heading_collapsed": true
   },
   "source": [
    "## Lab01: 线性回归"
   ]
  },
  {
   "cell_type": "code",
   "execution_count": 27,
   "metadata": {
    "Collapsed": "false",
    "hidden": true
   },
   "outputs": [],
   "source": [
    "from __future__ import absolute_import, division, print_function\n",
    "import tensorflow as tf\n",
    "import numpy as np\n",
    "rng = np.random"
   ]
  },
  {
   "cell_type": "markdown",
   "metadata": {
    "Collapsed": "false",
    "hidden": true
   },
   "source": [
    "### 定义超参值"
   ]
  },
  {
   "cell_type": "code",
   "execution_count": 28,
   "metadata": {
    "Collapsed": "false",
    "hidden": true
   },
   "outputs": [],
   "source": [
    "# Parameters.\n",
    "learning_rate = 0.01\n",
    "training_steps = 1000\n",
    "display_step = 50"
   ]
  },
  {
   "cell_type": "markdown",
   "metadata": {
    "Collapsed": "false",
    "hidden": true
   },
   "source": [
    "### 训练数据"
   ]
  },
  {
   "cell_type": "code",
   "execution_count": 29,
   "metadata": {
    "Collapsed": "false",
    "hidden": true
   },
   "outputs": [],
   "source": [
    "# Training Data.\n",
    "X = np.array([3.3,4.4,5.5,6.71,6.93,4.168,9.779,6.182,7.59,2.167,\n",
    "              7.042,10.791,5.313,7.997,5.654,9.27,3.1])\n",
    "Y = np.array([1.7,2.76,2.09,3.19,1.694,1.573,3.366,2.596,2.53,1.221,\n",
    "              2.827,3.465,1.65,2.904,2.42,2.94,1.3])\n",
    "n_samples = X.shape[0]"
   ]
  },
  {
   "cell_type": "markdown",
   "metadata": {
    "Collapsed": "false",
    "heading_collapsed": true,
    "hidden": true
   },
   "source": [
    "### 定义变量和函数"
   ]
  },
  {
   "cell_type": "code",
   "execution_count": 30,
   "metadata": {
    "Collapsed": "false",
    "hidden": true
   },
   "outputs": [],
   "source": [
    "\n",
    "# Weight and Bias, initialized randomly.\n",
    "W = tf.Variable(rng.randn(), name=\"weight\")\n",
    "b = tf.Variable(rng.randn(), name=\"bias\")\n",
    "\n",
    "# Linear regression (Wx + b).\n",
    "def linear_regression(x):\n",
    "    return W * x + b\n",
    "\n",
    "# Loss Function: Mean square error.\n",
    "def mean_square(y_pred, y_true):\n",
    "    #return tf.reduce_sum(tf.pow(y_pred-y_true, 2)) / (2 * n_samples)\n",
    "    return tf.reduce_mean(tf.square(y_pred - y_true))\n",
    "# Stochastic Gradient Descent Optimizer.\n",
    "optimizer = tf.optimizers.SGD(learning_rate)"
   ]
  },
  {
   "cell_type": "code",
   "execution_count": 31,
   "metadata": {
    "Collapsed": "false",
    "hidden": true
   },
   "outputs": [],
   "source": [
    "# Optimization process. \n",
    "def one_step():\n",
    "    # Wrap computation inside a GradientTape for automatic differentiation.\n",
    "    with tf.GradientTape() as g:\n",
    "        pred = linear_regression(X)\n",
    "        loss = mean_square(pred, Y)\n",
    "\n",
    "    # Compute gradients.\n",
    "    gradients = g.gradient(loss, [W, b])\n",
    "    \n",
    "    # Update W and b following gradients.\n",
    "    optimizer.apply_gradients(zip(gradients, [W, b]))"
   ]
  },
  {
   "cell_type": "code",
   "execution_count": 32,
   "metadata": {
    "Collapsed": "false",
    "hidden": true
   },
   "outputs": [
    {
     "name": "stdout",
     "output_type": "stream",
     "text": [
      "step: 50, loss: 0.409243, W: 0.454227, b: -0.637487\n",
      "step: 100, loss: 0.354137, W: 0.431043, b: -0.473124\n",
      "step: 150, loss: 0.310922, W: 0.410513, b: -0.327570\n",
      "step: 200, loss: 0.277031, W: 0.392331, b: -0.198673\n",
      "step: 250, loss: 0.250453, W: 0.376231, b: -0.084526\n",
      "step: 300, loss: 0.229610, W: 0.361972, b: 0.016559\n",
      "step: 350, loss: 0.213265, W: 0.349346, b: 0.106075\n",
      "step: 400, loss: 0.200446, W: 0.338164, b: 0.185348\n",
      "step: 450, loss: 0.190393, W: 0.328262, b: 0.255549\n",
      "step: 500, loss: 0.182510, W: 0.319493, b: 0.317717\n",
      "step: 550, loss: 0.176327, W: 0.311728, b: 0.372770\n",
      "step: 600, loss: 0.171479, W: 0.304851, b: 0.421523\n",
      "step: 650, loss: 0.167677, W: 0.298761, b: 0.464697\n",
      "step: 700, loss: 0.164695, W: 0.293368, b: 0.502931\n",
      "step: 750, loss: 0.162356, W: 0.288592, b: 0.536789\n",
      "step: 800, loss: 0.160523, W: 0.284363, b: 0.566773\n",
      "step: 850, loss: 0.159084, W: 0.280618, b: 0.593325\n",
      "step: 900, loss: 0.157957, W: 0.277301, b: 0.616839\n",
      "step: 950, loss: 0.157072, W: 0.274364, b: 0.637662\n",
      "step: 1000, loss: 0.156379, W: 0.271763, b: 0.656102\n",
      "Time per epoch: 0.144 s\n"
     ]
    }
   ],
   "source": [
    "import time\n",
    "t0 = time.time()\n",
    "# Run training for the given number of steps.\n",
    "for step in range(1, training_steps + 1):\n",
    "    # Run the optimization to update W and b values.\n",
    "    one_step()\n",
    "    \n",
    "    if step % display_step == 0:\n",
    "        pred = linear_regression(X)\n",
    "        loss = mean_square(pred, Y)\n",
    "        print(\"step: %i, loss: %f, W: %f, b: %f\" % (step, loss, W.numpy(), b.numpy()))\n",
    "t_end = time.time() - t0\n",
    "print('Time per epoch: %.3f s' % (t_end / 20,))"
   ]
  },
  {
   "cell_type": "markdown",
   "metadata": {
    "Collapsed": "false",
    "hidden": true
   },
   "source": [
    "使用修饰符`@tf.function` 变为静态图"
   ]
  },
  {
   "cell_type": "code",
   "execution_count": 49,
   "metadata": {
    "Collapsed": "false",
    "hidden": true
   },
   "outputs": [],
   "source": [
    "@tf.function\n",
    "# Optimization process. \n",
    "def one_step():\n",
    "    # Wrap computation inside a GradientTape for automatic differentiation.\n",
    "    with tf.GradientTape() as g:\n",
    "        pred = linear_regression(X)\n",
    "        loss = mean_square(pred, Y) \n",
    "    # Compute gradients.\n",
    "    gradients = g.gradient(loss, [W, b])\n",
    "    \n",
    "    # Update W and b following gradients.\n",
    "    optimizer.apply_gradients(zip(gradients, [W, b]))\n",
    "    \n",
    "# Weight and Bias, initialized randomly.\n",
    "W = tf.Variable(rng.randn(), name=\"weight\")\n",
    "b = tf.Variable(rng.randn(), name=\"bias\")"
   ]
  },
  {
   "cell_type": "code",
   "execution_count": 50,
   "metadata": {
    "Collapsed": "false",
    "hidden": true
   },
   "outputs": [
    {
     "name": "stdout",
     "output_type": "stream",
     "text": [
      "step: 50, loss: 0.337836, W: 0.423587, b: -0.420264\n",
      "step: 100, loss: 0.298138, W: 0.403910, b: -0.280759\n",
      "step: 150, loss: 0.267006, W: 0.386484, b: -0.157218\n",
      "step: 200, loss: 0.242591, W: 0.371052, b: -0.047815\n",
      "step: 250, loss: 0.223445, W: 0.357387, b: 0.049068\n",
      "step: 300, loss: 0.208429, W: 0.345285, b: 0.134864\n",
      "step: 350, loss: 0.196654, W: 0.334568, b: 0.210843\n",
      "step: 400, loss: 0.187420, W: 0.325078, b: 0.278126\n",
      "step: 450, loss: 0.180178, W: 0.316673, b: 0.337710\n",
      "step: 500, loss: 0.174498, W: 0.309230, b: 0.390476\n",
      "step: 550, loss: 0.170045, W: 0.302639, b: 0.437203\n",
      "step: 600, loss: 0.166552, W: 0.296803, b: 0.478583\n",
      "step: 650, loss: 0.163813, W: 0.291634, b: 0.515227\n",
      "step: 700, loss: 0.161665, W: 0.287057, b: 0.547678\n",
      "step: 750, loss: 0.159980, W: 0.283003, b: 0.576416\n",
      "step: 800, loss: 0.158659, W: 0.279413, b: 0.601865\n",
      "step: 850, loss: 0.157623, W: 0.276235, b: 0.624401\n",
      "step: 900, loss: 0.156811, W: 0.273419, b: 0.644359\n",
      "step: 950, loss: 0.156173, W: 0.270927, b: 0.662033\n",
      "step: 1000, loss: 0.155674, W: 0.268719, b: 0.677684\n",
      "Time per epoch: 0.023 s\n"
     ]
    }
   ],
   "source": [
    "# Variables for plotting cost function\n",
    "W_history = []\n",
    "cost_history = []\n",
    "\n",
    "import time\n",
    "t0 = time.time()\n",
    "# Run training for the given number of steps.\n",
    "for step in range(1, training_steps + 1):\n",
    "    # Run the optimization to update W and b values.\n",
    "    one_step()\n",
    "    \n",
    "    if step % display_step == 0:\n",
    "        pred = linear_regression(X)\n",
    "        loss = mean_square(pred, Y)\n",
    "        print(\"step: %i, loss: %f, W: %f, b: %f\" % (step, loss, W.numpy(), b.numpy()))\n",
    "        # Recorde W and b    \n",
    "        W_history.append(W.numpy())\n",
    "        cost_history.append(loss.numpy())   \n",
    "t_end = time.time() - t0\n",
    "print('Time per epoch: %.3f s' % (t_end / 20,))"
   ]
  },
  {
   "cell_type": "markdown",
   "metadata": {
    "Collapsed": "false",
    "hidden": true
   },
   "source": [
    "0.121 s ==> 0.023 s"
   ]
  },
  {
   "cell_type": "markdown",
   "metadata": {
    "Collapsed": "false",
    "hidden": true
   },
   "source": [
    "### 查看曲线拟合情况"
   ]
  },
  {
   "cell_type": "code",
   "execution_count": 42,
   "metadata": {
    "Collapsed": "false",
    "hidden": true
   },
   "outputs": [
    {
     "data": {
      "image/png": "[encoded data removed]",
      "text/plain": [
       "<Figure size 432x288 with 1 Axes>"
      ]
     },
     "metadata": {
      "needs_background": "light"
     },
     "output_type": "display_data"
    }
   ],
   "source": [
    "import matplotlib.pyplot as plt\n",
    "%matplotlib inline\n",
    "\n",
    "# Graphic display\n",
    "plt.plot(X, Y, 'ro', label='Original data')\n",
    "plt.plot(X, np.array(W * X + b), label='Fitted line')\n",
    "plt.legend()\n",
    "plt.show()"
   ]
  },
  {
   "cell_type": "markdown",
   "metadata": {
    "Collapsed": "false",
    "hidden": true
   },
   "source": [
    "### 了解参数W是如何被优化的"
   ]
  },
  {
   "cell_type": "code",
   "execution_count": 55,
   "metadata": {
    "Collapsed": "false",
    "hidden": true
   },
   "outputs": [
    {
     "data": {
      "image/png": "[encoded data removed]",
      "text/plain": [
       "<Figure size 432x288 with 1 Axes>"
      ]
     },
     "metadata": {
      "needs_background": "light"
     },
     "output_type": "display_data"
    }
   ],
   "source": [
    "# Show the cost function\n",
    "plt.plot(cost_history,W_history)\n",
    "plt.show()"
   ]
  },
  {
   "cell_type": "markdown",
   "metadata": {
    "Collapsed": "false",
    "hidden": true
   },
   "source": [
    "### 分析优化过程"
   ]
  },
  {
   "cell_type": "markdown",
   "metadata": {
    "Collapsed": "false",
    "hidden": true
   },
   "source": [
    "<详见单独的Notebook: **02.sgd-explain**>"
   ]
  },
  {
   "cell_type": "markdown",
   "metadata": {
    "Collapsed": "false",
    "heading_collapsed": true
   },
   "source": [
    "## Lab02：多元线性回归"
   ]
  },
  {
   "cell_type": "code",
   "execution_count": 135,
   "metadata": {
    "Collapsed": "false",
    "hidden": true
   },
   "outputs": [],
   "source": [
    "# Lab Multi-variable linear regression\n",
    "import tensorflow as tf\n",
    "\n",
    "X = tf.constant([[73., 80., 75.],\n",
    "          [93., 88., 93.],\n",
    "          [89., 91., 90.],\n",
    "          [96., 98., 100.],\n",
    "          [73., 66., 70.]])\n",
    "Y = tf.constant([[152.],\n",
    "          [185.],\n",
    "          [180.],\n",
    "          [196.],\n",
    "          [142.]])"
   ]
  },
  {
   "cell_type": "code",
   "execution_count": 136,
   "metadata": {
    "Collapsed": "false",
    "hidden": true
   },
   "outputs": [],
   "source": [
    "# Parameters.\n",
    "learning_rate = 1e-5\n",
    "training_steps = 1000\n",
    "display_step = 50\n",
    "\n",
    "N = X.shape[0]"
   ]
  },
  {
   "cell_type": "markdown",
   "metadata": {
    "Collapsed": "false",
    "hidden": true
   },
   "source": [
    "> **注意：**此处如果继续使用1e-2的学习率，容易出现意想不到的结果，思考一下为什么？"
   ]
  },
  {
   "cell_type": "code",
   "execution_count": 137,
   "metadata": {
    "Collapsed": "false",
    "hidden": true
   },
   "outputs": [],
   "source": [
    "W = tf.Variable(tf.random.uniform(shape=(3, 1)), name='weight')\n",
    "b = tf.Variable(tf.random.uniform(shape=(1,)), name='bias')"
   ]
  },
  {
   "cell_type": "code",
   "execution_count": 138,
   "metadata": {
    "Collapsed": "false",
    "hidden": true
   },
   "outputs": [],
   "source": [
    "# Linear regression (Wx + b).\n",
    "def multi_linear_regression(X):\n",
    "    return tf.matmul(X, W) + b\n",
    "\n",
    "# Mean square error.\n",
    "def mean_square(y_pred, y_true):\n",
    "    return tf.reduce_mean(tf.square(y_pred - y_true))\n",
    "\n",
    "# Stochastic Gradient Descent Optimizer.\n",
    "optimizer = tf.optimizers.SGD(learning_rate)"
   ]
  },
  {
   "cell_type": "code",
   "execution_count": 139,
   "metadata": {
    "Collapsed": "false",
    "hidden": true
   },
   "outputs": [],
   "source": [
    "# Optimization process. \n",
    "def run_optimization():\n",
    "    # Wrap computation inside a GradientTape for automatic differentiation.\n",
    "    with tf.GradientTape() as g:\n",
    "        pred = multi_linear_regression(X)\n",
    "        pred = tf.squeeze(pred,axis=1)\n",
    "        loss = mean_square(pred, Y)\n",
    "    # Compute gradients.\n",
    "    gradients = g.gradient(loss, [W, b])\n",
    "    \n",
    "    # Update W and b following gradients.\n",
    "    optimizer.apply_gradients(zip(gradients, [W, b]))"
   ]
  },
  {
   "cell_type": "code",
   "execution_count": 140,
   "metadata": {
    "Collapsed": "false",
    "collapsed": true,
    "hidden": true,
    "jupyter": {
     "outputs_hidden": true
    }
   },
   "outputs": [
    {
     "name": "stdout",
     "output_type": "stream",
     "text": [
      "step: 50, loss: 8.062755\n",
      "step: 100, loss: 7.956572\n",
      "step: 150, loss: 7.855689\n",
      "step: 200, loss: 7.759883\n",
      "step: 250, loss: 7.669236\n",
      "step: 300, loss: 7.583427\n",
      "step: 350, loss: 7.502346\n",
      "step: 400, loss: 7.425916\n",
      "step: 450, loss: 7.354018\n",
      "step: 500, loss: 7.286485\n",
      "step: 550, loss: 7.223230\n",
      "step: 600, loss: 7.164111\n",
      "step: 650, loss: 7.109163\n",
      "step: 700, loss: 7.058049\n",
      "step: 750, loss: 7.010841\n",
      "step: 800, loss: 6.967332\n",
      "step: 850, loss: 6.927508\n",
      "step: 900, loss: 6.891160\n",
      "step: 950, loss: 6.858230\n",
      "step: 1000, loss: 6.828803\n"
     ]
    }
   ],
   "source": [
    "# Run training for the given number of steps.\n",
    "for step in range(1, training_steps + 1):\n",
    "    # Run the optimization to update W and b values.\n",
    "    run_optimization()\n",
    "    \n",
    "    if step % display_step == 0:\n",
    "        pred = multi_linear_regression(X)\n",
    "        loss = mean_square(pred, Y)\n",
    "        print(\"step: %i, loss: %f\" % (step, loss))"
   ]
  },
  {
   "cell_type": "code",
   "execution_count": null,
   "metadata": {
    "Collapsed": "false",
    "hidden": true
   },
   "outputs": [],
   "source": []
  },
  {
   "cell_type": "markdown",
   "metadata": {
    "Collapsed": "true",
    "heading_collapsed": true
   },
   "source": [
    "## Lab03：逻辑回归（二分类）"
   ]
  },
  {
   "cell_type": "code",
   "execution_count": 202,
   "metadata": {
    "Collapsed": "false",
    "hidden": true
   },
   "outputs": [],
   "source": [
    "import pandas as pd\n",
    "import tensorflow as tf\n",
    "import numpy as np\n",
    "\n",
    "df = pd.read_csv('data/data-03-diabetes.csv', header=None, delimiter=',')"
   ]
  },
  {
   "cell_type": "code",
   "execution_count": 203,
   "metadata": {
    "Collapsed": "false",
    "hidden": true
   },
   "outputs": [
    {
     "data": {
      "text/html": [
       "<div>\n",
       "<style scoped>\n",
       "    .dataframe tbody tr th:only-of-type {\n",
       "        vertical-align: middle;\n",
       "    }\n",
       "\n",
       "    .dataframe tbody tr th {\n",
       "        vertical-align: top;\n",
       "    }\n",
       "\n",
       "    .dataframe thead th {\n",
       "        text-align: right;\n",
       "    }\n",
       "</style>\n",
       "<table border=\"1\" class=\"dataframe\">\n",
       "  <thead>\n",
       "    <tr style=\"text-align: right;\">\n",
       "      <th></th>\n",
       "      <th>0</th>\n",
       "      <th>1</th>\n",
       "      <th>2</th>\n",
       "      <th>3</th>\n",
       "      <th>4</th>\n",
       "      <th>5</th>\n",
       "      <th>6</th>\n",
       "      <th>7</th>\n",
       "      <th>8</th>\n",
       "    </tr>\n",
       "  </thead>\n",
       "  <tbody>\n",
       "    <tr>\n",
       "      <td>0</td>\n",
       "      <td>-0.294118</td>\n",
       "      <td>0.487437</td>\n",
       "      <td>0.180328</td>\n",
       "      <td>-0.292929</td>\n",
       "      <td>0.000000</td>\n",
       "      <td>0.001490</td>\n",
       "      <td>-0.531170</td>\n",
       "      <td>-0.033333</td>\n",
       "      <td>0</td>\n",
       "    </tr>\n",
       "    <tr>\n",
       "      <td>1</td>\n",
       "      <td>-0.882353</td>\n",
       "      <td>-0.145729</td>\n",
       "      <td>0.081967</td>\n",
       "      <td>-0.414141</td>\n",
       "      <td>0.000000</td>\n",
       "      <td>-0.207153</td>\n",
       "      <td>-0.766866</td>\n",
       "      <td>-0.666667</td>\n",
       "      <td>1</td>\n",
       "    </tr>\n",
       "    <tr>\n",
       "      <td>2</td>\n",
       "      <td>-0.058824</td>\n",
       "      <td>0.839196</td>\n",
       "      <td>0.049180</td>\n",
       "      <td>0.000000</td>\n",
       "      <td>0.000000</td>\n",
       "      <td>-0.305514</td>\n",
       "      <td>-0.492741</td>\n",
       "      <td>-0.633333</td>\n",
       "      <td>0</td>\n",
       "    </tr>\n",
       "    <tr>\n",
       "      <td>3</td>\n",
       "      <td>-0.882353</td>\n",
       "      <td>-0.105528</td>\n",
       "      <td>0.081967</td>\n",
       "      <td>-0.535354</td>\n",
       "      <td>-0.777778</td>\n",
       "      <td>-0.162444</td>\n",
       "      <td>-0.923997</td>\n",
       "      <td>0.000000</td>\n",
       "      <td>1</td>\n",
       "    </tr>\n",
       "    <tr>\n",
       "      <td>4</td>\n",
       "      <td>0.000000</td>\n",
       "      <td>0.376884</td>\n",
       "      <td>-0.344262</td>\n",
       "      <td>-0.292929</td>\n",
       "      <td>-0.602837</td>\n",
       "      <td>0.284650</td>\n",
       "      <td>0.887276</td>\n",
       "      <td>-0.600000</td>\n",
       "      <td>0</td>\n",
       "    </tr>\n",
       "  </tbody>\n",
       "</table>\n",
       "</div>"
      ],
      "text/plain": [
       "          0         1         2         3         4         5         6  \\\n",
       "0 -0.294118  0.487437  0.180328 -0.292929  0.000000  0.001490 -0.531170   \n",
       "1 -0.882353 -0.145729  0.081967 -0.414141  0.000000 -0.207153 -0.766866   \n",
       "2 -0.058824  0.839196  0.049180  0.000000  0.000000 -0.305514 -0.492741   \n",
       "3 -0.882353 -0.105528  0.081967 -0.535354 -0.777778 -0.162444 -0.923997   \n",
       "4  0.000000  0.376884 -0.344262 -0.292929 -0.602837  0.284650  0.887276   \n",
       "\n",
       "          7  8  \n",
       "0 -0.033333  0  \n",
       "1 -0.666667  1  \n",
       "2 -0.633333  0  \n",
       "3  0.000000  1  \n",
       "4 -0.600000  0  "
      ]
     },
     "execution_count": 203,
     "metadata": {},
     "output_type": "execute_result"
    }
   ],
   "source": [
    "df.head()"
   ]
  },
  {
   "cell_type": "code",
   "execution_count": 204,
   "metadata": {
    "Collapsed": "false",
    "hidden": true
   },
   "outputs": [],
   "source": [
    "X = df[[0,1,2,3,4,5,6,7]].values\n",
    "Y = df[8].values"
   ]
  },
  {
   "cell_type": "code",
   "execution_count": 205,
   "metadata": {
    "Collapsed": "false",
    "hidden": true
   },
   "outputs": [
    {
     "data": {
      "text/plain": [
       "((759, 8), (759,))"
      ]
     },
     "execution_count": 205,
     "metadata": {},
     "output_type": "execute_result"
    }
   ],
   "source": [
    "X.shape,Y.shape"
   ]
  },
  {
   "cell_type": "code",
   "execution_count": 206,
   "metadata": {
    "Collapsed": "false",
    "hidden": true
   },
   "outputs": [],
   "source": [
    "X = tf.constant(X,dtype='float32')\n",
    "Y = tf.constant(Y,dtype='float32')"
   ]
  },
  {
   "cell_type": "code",
   "execution_count": 207,
   "metadata": {
    "Collapsed": "false",
    "hidden": true
   },
   "outputs": [],
   "source": [
    "# Parameters.\n",
    "learning_rate = 1e-2\n",
    "training_steps = 10000\n",
    "display_step = 500\n",
    "\n",
    "N = X.shape[0]\n",
    "\n",
    "num_features = X.shape[1]\n",
    "num_classes = 1"
   ]
  },
  {
   "cell_type": "code",
   "execution_count": 208,
   "metadata": {
    "Collapsed": "false",
    "hidden": true
   },
   "outputs": [],
   "source": [
    "W = tf.Variable(tf.random.normal((num_features, num_classes)), name='weight')\n",
    "b = tf.Variable(tf.random.normal([num_classes]), name='bias')"
   ]
  },
  {
   "cell_type": "code",
   "execution_count": 218,
   "metadata": {
    "Collapsed": "false",
    "hidden": true
   },
   "outputs": [],
   "source": [
    "# Linear regression (Wx + b).\n",
    "def logits_regression(x):\n",
    "    return tf.sigmoid(tf.add(tf.matmul(x,W),b))\n",
    "\n",
    "# loss/error.\n",
    "def loss_f(y_pred, y_true):\n",
    "    return -tf.reduce_mean(y_true * tf.math.log(y_pred) + (1 - y_true) *\n",
    "                       tf.math.log(1 - y_pred))\n",
    "\n",
    "# Stochastic Gradient Descent Optimizer.\n",
    "optimizer = tf.optimizers.SGD(learning_rate)\n",
    "\n",
    "\n",
    "def accuracy(y_pred, y_true):\n",
    "    # Accuracy computation\n",
    "    # True if hypothesis>0.5 else False\n",
    "    predicted = tf.cast(y_pred > 0.5, dtype=tf.float32)\n",
    "    accuracy = tf.reduce_mean(tf.cast(tf.equal(predicted, y_true), dtype=tf.float32))\n",
    "    return accuracy"
   ]
  },
  {
   "cell_type": "code",
   "execution_count": 219,
   "metadata": {
    "Collapsed": "false",
    "hidden": true
   },
   "outputs": [],
   "source": [
    "# Optimization process. \n",
    "def run_optimization():\n",
    "    # Wrap computation inside a GradientTape for automatic differentiation.\n",
    "    with tf.GradientTape() as g:\n",
    "        pred = logits_regression(X)\n",
    "        pred = tf.squeeze(pred,axis=1)\n",
    "        loss = loss_f(pred, Y)\n",
    "    # Compute gradients.\n",
    "    gradients = g.gradient(loss, [W, b])\n",
    "    \n",
    "    # Update W and b following gradients.\n",
    "    optimizer.apply_gradients(zip(gradients, [W, b]))"
   ]
  },
  {
   "cell_type": "code",
   "execution_count": 220,
   "metadata": {
    "Collapsed": "false",
    "collapsed": true,
    "hidden": true,
    "jupyter": {
     "outputs_hidden": true
    }
   },
   "outputs": [
    {
     "name": "stdout",
     "output_type": "stream",
     "text": [
      "step: 50, loss: 0.474027, accuracy: 0.770751\n",
      "step: 100, loss: 0.474013, accuracy: 0.770751\n",
      "step: 150, loss: 0.474000, accuracy: 0.770751\n",
      "step: 200, loss: 0.473987, accuracy: 0.770751\n",
      "step: 250, loss: 0.473974, accuracy: 0.770751\n",
      "step: 300, loss: 0.473961, accuracy: 0.770751\n",
      "step: 350, loss: 0.473948, accuracy: 0.770751\n",
      "step: 400, loss: 0.473936, accuracy: 0.770751\n",
      "step: 450, loss: 0.473923, accuracy: 0.770751\n",
      "step: 500, loss: 0.473911, accuracy: 0.770751\n",
      "step: 550, loss: 0.473898, accuracy: 0.770751\n",
      "step: 600, loss: 0.473886, accuracy: 0.770751\n",
      "step: 650, loss: 0.473873, accuracy: 0.770751\n",
      "step: 700, loss: 0.473861, accuracy: 0.770751\n",
      "step: 750, loss: 0.473849, accuracy: 0.770751\n",
      "step: 800, loss: 0.473837, accuracy: 0.770751\n",
      "step: 850, loss: 0.473826, accuracy: 0.770751\n",
      "step: 900, loss: 0.473814, accuracy: 0.770751\n",
      "step: 950, loss: 0.473802, accuracy: 0.770751\n",
      "step: 1000, loss: 0.473790, accuracy: 0.770751\n",
      "step: 1050, loss: 0.473779, accuracy: 0.770751\n",
      "step: 1100, loss: 0.473767, accuracy: 0.770751\n",
      "step: 1150, loss: 0.473756, accuracy: 0.770751\n",
      "step: 1200, loss: 0.473745, accuracy: 0.770751\n",
      "step: 1250, loss: 0.473733, accuracy: 0.770751\n",
      "step: 1300, loss: 0.473722, accuracy: 0.770751\n",
      "step: 1350, loss: 0.473711, accuracy: 0.770751\n",
      "step: 1400, loss: 0.473700, accuracy: 0.770751\n",
      "step: 1450, loss: 0.473690, accuracy: 0.770751\n",
      "step: 1500, loss: 0.473679, accuracy: 0.770751\n",
      "step: 1550, loss: 0.473668, accuracy: 0.770751\n",
      "step: 1600, loss: 0.473657, accuracy: 0.770751\n",
      "step: 1650, loss: 0.473647, accuracy: 0.770751\n",
      "step: 1700, loss: 0.473636, accuracy: 0.770751\n",
      "step: 1750, loss: 0.473626, accuracy: 0.770751\n",
      "step: 1800, loss: 0.473615, accuracy: 0.770751\n",
      "step: 1850, loss: 0.473605, accuracy: 0.770751\n",
      "step: 1900, loss: 0.473595, accuracy: 0.770751\n",
      "step: 1950, loss: 0.473585, accuracy: 0.770751\n",
      "step: 2000, loss: 0.473575, accuracy: 0.770751\n",
      "step: 2050, loss: 0.473565, accuracy: 0.770751\n",
      "step: 2100, loss: 0.473555, accuracy: 0.770751\n",
      "step: 2150, loss: 0.473545, accuracy: 0.772069\n",
      "step: 2200, loss: 0.473535, accuracy: 0.772069\n",
      "step: 2250, loss: 0.473525, accuracy: 0.772069\n",
      "step: 2300, loss: 0.473516, accuracy: 0.772069\n",
      "step: 2350, loss: 0.473506, accuracy: 0.772069\n",
      "step: 2400, loss: 0.473497, accuracy: 0.772069\n",
      "step: 2450, loss: 0.473487, accuracy: 0.772069\n",
      "step: 2500, loss: 0.473478, accuracy: 0.772069\n",
      "step: 2550, loss: 0.473468, accuracy: 0.772069\n",
      "step: 2600, loss: 0.473459, accuracy: 0.772069\n",
      "step: 2650, loss: 0.473450, accuracy: 0.772069\n",
      "step: 2700, loss: 0.473441, accuracy: 0.772069\n",
      "step: 2750, loss: 0.473432, accuracy: 0.772069\n",
      "step: 2800, loss: 0.473423, accuracy: 0.772069\n",
      "step: 2850, loss: 0.473414, accuracy: 0.772069\n",
      "step: 2900, loss: 0.473405, accuracy: 0.772069\n",
      "step: 2950, loss: 0.473396, accuracy: 0.772069\n",
      "step: 3000, loss: 0.473387, accuracy: 0.772069\n",
      "step: 3050, loss: 0.473378, accuracy: 0.772069\n",
      "step: 3100, loss: 0.473370, accuracy: 0.772069\n",
      "step: 3150, loss: 0.473361, accuracy: 0.772069\n",
      "step: 3200, loss: 0.473353, accuracy: 0.772069\n",
      "step: 3250, loss: 0.473344, accuracy: 0.772069\n",
      "step: 3300, loss: 0.473336, accuracy: 0.772069\n",
      "step: 3350, loss: 0.473327, accuracy: 0.772069\n",
      "step: 3400, loss: 0.473319, accuracy: 0.772069\n",
      "step: 3450, loss: 0.473311, accuracy: 0.772069\n",
      "step: 3500, loss: 0.473303, accuracy: 0.772069\n",
      "step: 3550, loss: 0.473294, accuracy: 0.772069\n",
      "step: 3600, loss: 0.473286, accuracy: 0.770751\n",
      "step: 3650, loss: 0.473278, accuracy: 0.770751\n",
      "step: 3700, loss: 0.473270, accuracy: 0.770751\n",
      "step: 3750, loss: 0.473262, accuracy: 0.770751\n",
      "step: 3800, loss: 0.473254, accuracy: 0.770751\n",
      "step: 3850, loss: 0.473247, accuracy: 0.770751\n",
      "step: 3900, loss: 0.473239, accuracy: 0.770751\n",
      "step: 3950, loss: 0.473231, accuracy: 0.770751\n",
      "step: 4000, loss: 0.473223, accuracy: 0.770751\n",
      "step: 4050, loss: 0.473216, accuracy: 0.770751\n",
      "step: 4100, loss: 0.473208, accuracy: 0.770751\n",
      "step: 4150, loss: 0.473200, accuracy: 0.772069\n",
      "step: 4200, loss: 0.473193, accuracy: 0.772069\n",
      "step: 4250, loss: 0.473186, accuracy: 0.772069\n",
      "step: 4300, loss: 0.473178, accuracy: 0.772069\n",
      "step: 4350, loss: 0.473171, accuracy: 0.772069\n",
      "step: 4400, loss: 0.473163, accuracy: 0.772069\n",
      "step: 4450, loss: 0.473156, accuracy: 0.772069\n",
      "step: 4500, loss: 0.473149, accuracy: 0.772069\n",
      "step: 4550, loss: 0.473142, accuracy: 0.772069\n",
      "step: 4600, loss: 0.473135, accuracy: 0.772069\n",
      "step: 4650, loss: 0.473128, accuracy: 0.772069\n",
      "step: 4700, loss: 0.473121, accuracy: 0.772069\n",
      "step: 4750, loss: 0.473113, accuracy: 0.772069\n",
      "step: 4800, loss: 0.473107, accuracy: 0.772069\n",
      "step: 4850, loss: 0.473100, accuracy: 0.772069\n",
      "step: 4900, loss: 0.473093, accuracy: 0.772069\n",
      "step: 4950, loss: 0.473086, accuracy: 0.772069\n",
      "step: 5000, loss: 0.473079, accuracy: 0.772069\n",
      "step: 5050, loss: 0.473072, accuracy: 0.772069\n",
      "step: 5100, loss: 0.473066, accuracy: 0.772069\n",
      "step: 5150, loss: 0.473059, accuracy: 0.772069\n",
      "step: 5200, loss: 0.473052, accuracy: 0.772069\n",
      "step: 5250, loss: 0.473046, accuracy: 0.772069\n",
      "step: 5300, loss: 0.473039, accuracy: 0.772069\n",
      "step: 5350, loss: 0.473033, accuracy: 0.772069\n",
      "step: 5400, loss: 0.473026, accuracy: 0.772069\n",
      "step: 5450, loss: 0.473020, accuracy: 0.772069\n",
      "step: 5500, loss: 0.473014, accuracy: 0.772069\n",
      "step: 5550, loss: 0.473007, accuracy: 0.772069\n",
      "step: 5600, loss: 0.473001, accuracy: 0.772069\n",
      "step: 5650, loss: 0.472995, accuracy: 0.772069\n",
      "step: 5700, loss: 0.472988, accuracy: 0.772069\n",
      "step: 5750, loss: 0.472982, accuracy: 0.772069\n",
      "step: 5800, loss: 0.472976, accuracy: 0.772069\n",
      "step: 5850, loss: 0.472970, accuracy: 0.772069\n",
      "step: 5900, loss: 0.472964, accuracy: 0.772069\n",
      "step: 5950, loss: 0.472958, accuracy: 0.772069\n",
      "step: 6000, loss: 0.472952, accuracy: 0.772069\n",
      "step: 6050, loss: 0.472946, accuracy: 0.772069\n",
      "step: 6100, loss: 0.472940, accuracy: 0.772069\n",
      "step: 6150, loss: 0.472934, accuracy: 0.772069\n",
      "step: 6200, loss: 0.472928, accuracy: 0.772069\n",
      "step: 6250, loss: 0.472922, accuracy: 0.772069\n",
      "step: 6300, loss: 0.472917, accuracy: 0.772069\n",
      "step: 6350, loss: 0.472911, accuracy: 0.772069\n",
      "step: 6400, loss: 0.472905, accuracy: 0.772069\n",
      "step: 6450, loss: 0.472899, accuracy: 0.773386\n",
      "step: 6500, loss: 0.472894, accuracy: 0.773386\n",
      "step: 6550, loss: 0.472888, accuracy: 0.773386\n",
      "step: 6600, loss: 0.472882, accuracy: 0.773386\n",
      "step: 6650, loss: 0.472877, accuracy: 0.773386\n",
      "step: 6700, loss: 0.472871, accuracy: 0.773386\n",
      "step: 6750, loss: 0.472866, accuracy: 0.773386\n",
      "step: 6800, loss: 0.472860, accuracy: 0.773386\n",
      "step: 6850, loss: 0.472855, accuracy: 0.773386\n",
      "step: 6900, loss: 0.472849, accuracy: 0.773386\n",
      "step: 6950, loss: 0.472844, accuracy: 0.773386\n",
      "step: 7000, loss: 0.472839, accuracy: 0.773386\n",
      "step: 7050, loss: 0.472833, accuracy: 0.773386\n",
      "step: 7100, loss: 0.472828, accuracy: 0.773386\n",
      "step: 7150, loss: 0.472823, accuracy: 0.773386\n",
      "step: 7200, loss: 0.472818, accuracy: 0.773386\n",
      "step: 7250, loss: 0.472813, accuracy: 0.773386\n",
      "step: 7300, loss: 0.472807, accuracy: 0.773386\n",
      "step: 7350, loss: 0.472802, accuracy: 0.773386\n",
      "step: 7400, loss: 0.472797, accuracy: 0.773386\n",
      "step: 7450, loss: 0.472792, accuracy: 0.773386\n",
      "step: 7500, loss: 0.472787, accuracy: 0.773386\n",
      "step: 7550, loss: 0.472782, accuracy: 0.773386\n",
      "step: 7600, loss: 0.472777, accuracy: 0.773386\n",
      "step: 7650, loss: 0.472772, accuracy: 0.773386\n",
      "step: 7700, loss: 0.472767, accuracy: 0.772069\n",
      "step: 7750, loss: 0.472762, accuracy: 0.772069\n",
      "step: 7800, loss: 0.472757, accuracy: 0.772069\n",
      "step: 7850, loss: 0.472752, accuracy: 0.772069\n",
      "step: 7900, loss: 0.472747, accuracy: 0.772069\n",
      "step: 7950, loss: 0.472743, accuracy: 0.772069\n",
      "step: 8000, loss: 0.472738, accuracy: 0.772069\n",
      "step: 8050, loss: 0.472733, accuracy: 0.772069\n",
      "step: 8100, loss: 0.472728, accuracy: 0.772069\n",
      "step: 8150, loss: 0.472724, accuracy: 0.772069\n",
      "step: 8200, loss: 0.472719, accuracy: 0.772069\n",
      "step: 8250, loss: 0.472714, accuracy: 0.772069\n",
      "step: 8300, loss: 0.472710, accuracy: 0.772069\n",
      "step: 8350, loss: 0.472705, accuracy: 0.772069\n",
      "step: 8400, loss: 0.472701, accuracy: 0.772069\n",
      "step: 8450, loss: 0.472696, accuracy: 0.772069\n",
      "step: 8500, loss: 0.472692, accuracy: 0.772069\n",
      "step: 8550, loss: 0.472687, accuracy: 0.772069\n",
      "step: 8600, loss: 0.472683, accuracy: 0.772069\n",
      "step: 8650, loss: 0.472678, accuracy: 0.772069\n",
      "step: 8700, loss: 0.472674, accuracy: 0.772069\n",
      "step: 8750, loss: 0.472669, accuracy: 0.772069\n",
      "step: 8800, loss: 0.472665, accuracy: 0.772069\n",
      "step: 8850, loss: 0.472661, accuracy: 0.772069\n",
      "step: 8900, loss: 0.472656, accuracy: 0.772069\n",
      "step: 8950, loss: 0.472652, accuracy: 0.772069\n",
      "step: 9000, loss: 0.472648, accuracy: 0.772069\n",
      "step: 9050, loss: 0.472643, accuracy: 0.772069\n",
      "step: 9100, loss: 0.472639, accuracy: 0.772069\n",
      "step: 9150, loss: 0.472635, accuracy: 0.772069\n",
      "step: 9200, loss: 0.472631, accuracy: 0.772069\n",
      "step: 9250, loss: 0.472627, accuracy: 0.772069\n",
      "step: 9300, loss: 0.472622, accuracy: 0.772069\n",
      "step: 9350, loss: 0.472618, accuracy: 0.772069\n",
      "step: 9400, loss: 0.472614, accuracy: 0.772069\n",
      "step: 9450, loss: 0.472610, accuracy: 0.772069\n",
      "step: 9500, loss: 0.472606, accuracy: 0.772069\n",
      "step: 9550, loss: 0.472602, accuracy: 0.772069\n",
      "step: 9600, loss: 0.472598, accuracy: 0.772069\n",
      "step: 9650, loss: 0.472594, accuracy: 0.772069\n",
      "step: 9700, loss: 0.472590, accuracy: 0.772069\n",
      "step: 9750, loss: 0.472586, accuracy: 0.772069\n",
      "step: 9800, loss: 0.472582, accuracy: 0.772069\n",
      "step: 9850, loss: 0.472578, accuracy: 0.772069\n",
      "step: 9900, loss: 0.472574, accuracy: 0.772069\n",
      "step: 9950, loss: 0.472570, accuracy: 0.772069\n",
      "step: 10000, loss: 0.472567, accuracy: 0.772069\n"
     ]
    }
   ],
   "source": [
    "# Run training for the given number of steps.\n",
    "for step in range(1, training_steps + 1):\n",
    "    # Run the optimization to update W and b values.\n",
    "    run_optimization()\n",
    "    \n",
    "    if step % display_step == 0:\n",
    "        pred =logits_regression(X)\n",
    "        pred = tf.squeeze(pred,axis=1)\n",
    "        loss = loss_f(pred, Y)\n",
    "        acc = accuracy(pred, Y)\n",
    "        print(\"step: %i, loss: %f, accuracy: %f\" % (step, loss, acc))"
   ]
  },
  {
   "cell_type": "code",
   "execution_count": null,
   "metadata": {
    "Collapsed": "false",
    "hidden": true
   },
   "outputs": [],
   "source": []
  },
  {
   "cell_type": "markdown",
   "metadata": {
    "Collapsed": "true",
    "heading_collapsed": true
   },
   "source": [
    "## Lab04：多分类问题"
   ]
  },
  {
   "cell_type": "code",
   "execution_count": 63,
   "metadata": {
    "Collapsed": "false",
    "hidden": true
   },
   "outputs": [],
   "source": [
    "import pandas as pd\n",
    "import tensorflow as tf\n",
    "import numpy as np\n",
    "\n",
    "df = pd.read_csv('data/data-04-zoo.csv', header=None, delimiter=',', \n",
    "                 skiprows=19,dtype=np.float32)"
   ]
  },
  {
   "cell_type": "markdown",
   "metadata": {
    "Collapsed": "false",
    "hidden": true
   },
   "source": [
    "可以查看csv头文件了解数据属性"
   ]
  },
  {
   "cell_type": "code",
   "execution_count": 64,
   "metadata": {
    "Collapsed": "false",
    "hidden": true
   },
   "outputs": [
    {
     "data": {
      "text/html": [
       "<div>\n",
       "<style scoped>\n",
       "    .dataframe tbody tr th:only-of-type {\n",
       "        vertical-align: middle;\n",
       "    }\n",
       "\n",
       "    .dataframe tbody tr th {\n",
       "        vertical-align: top;\n",
       "    }\n",
       "\n",
       "    .dataframe thead th {\n",
       "        text-align: right;\n",
       "    }\n",
       "</style>\n",
       "<table border=\"1\" class=\"dataframe\">\n",
       "  <thead>\n",
       "    <tr style=\"text-align: right;\">\n",
       "      <th></th>\n",
       "      <th>0</th>\n",
       "      <th>1</th>\n",
       "      <th>2</th>\n",
       "      <th>3</th>\n",
       "      <th>4</th>\n",
       "      <th>5</th>\n",
       "      <th>6</th>\n",
       "      <th>7</th>\n",
       "      <th>8</th>\n",
       "      <th>9</th>\n",
       "      <th>10</th>\n",
       "      <th>11</th>\n",
       "      <th>12</th>\n",
       "      <th>13</th>\n",
       "      <th>14</th>\n",
       "      <th>15</th>\n",
       "      <th>16</th>\n",
       "    </tr>\n",
       "  </thead>\n",
       "  <tbody>\n",
       "    <tr>\n",
       "      <td>0</td>\n",
       "      <td>1.0</td>\n",
       "      <td>0.0</td>\n",
       "      <td>0.0</td>\n",
       "      <td>1.0</td>\n",
       "      <td>0.0</td>\n",
       "      <td>0.0</td>\n",
       "      <td>1.0</td>\n",
       "      <td>1.0</td>\n",
       "      <td>1.0</td>\n",
       "      <td>1.0</td>\n",
       "      <td>0.0</td>\n",
       "      <td>0.0</td>\n",
       "      <td>4.0</td>\n",
       "      <td>0.0</td>\n",
       "      <td>0.0</td>\n",
       "      <td>1.0</td>\n",
       "      <td>0.0</td>\n",
       "    </tr>\n",
       "    <tr>\n",
       "      <td>1</td>\n",
       "      <td>1.0</td>\n",
       "      <td>0.0</td>\n",
       "      <td>0.0</td>\n",
       "      <td>1.0</td>\n",
       "      <td>0.0</td>\n",
       "      <td>0.0</td>\n",
       "      <td>0.0</td>\n",
       "      <td>1.0</td>\n",
       "      <td>1.0</td>\n",
       "      <td>1.0</td>\n",
       "      <td>0.0</td>\n",
       "      <td>0.0</td>\n",
       "      <td>4.0</td>\n",
       "      <td>1.0</td>\n",
       "      <td>0.0</td>\n",
       "      <td>1.0</td>\n",
       "      <td>0.0</td>\n",
       "    </tr>\n",
       "    <tr>\n",
       "      <td>2</td>\n",
       "      <td>0.0</td>\n",
       "      <td>0.0</td>\n",
       "      <td>1.0</td>\n",
       "      <td>0.0</td>\n",
       "      <td>0.0</td>\n",
       "      <td>1.0</td>\n",
       "      <td>1.0</td>\n",
       "      <td>1.0</td>\n",
       "      <td>1.0</td>\n",
       "      <td>0.0</td>\n",
       "      <td>0.0</td>\n",
       "      <td>1.0</td>\n",
       "      <td>0.0</td>\n",
       "      <td>1.0</td>\n",
       "      <td>0.0</td>\n",
       "      <td>0.0</td>\n",
       "      <td>3.0</td>\n",
       "    </tr>\n",
       "    <tr>\n",
       "      <td>3</td>\n",
       "      <td>1.0</td>\n",
       "      <td>0.0</td>\n",
       "      <td>0.0</td>\n",
       "      <td>1.0</td>\n",
       "      <td>0.0</td>\n",
       "      <td>0.0</td>\n",
       "      <td>1.0</td>\n",
       "      <td>1.0</td>\n",
       "      <td>1.0</td>\n",
       "      <td>1.0</td>\n",
       "      <td>0.0</td>\n",
       "      <td>0.0</td>\n",
       "      <td>4.0</td>\n",
       "      <td>0.0</td>\n",
       "      <td>0.0</td>\n",
       "      <td>1.0</td>\n",
       "      <td>0.0</td>\n",
       "    </tr>\n",
       "    <tr>\n",
       "      <td>4</td>\n",
       "      <td>1.0</td>\n",
       "      <td>0.0</td>\n",
       "      <td>0.0</td>\n",
       "      <td>1.0</td>\n",
       "      <td>0.0</td>\n",
       "      <td>0.0</td>\n",
       "      <td>1.0</td>\n",
       "      <td>1.0</td>\n",
       "      <td>1.0</td>\n",
       "      <td>1.0</td>\n",
       "      <td>0.0</td>\n",
       "      <td>0.0</td>\n",
       "      <td>4.0</td>\n",
       "      <td>1.0</td>\n",
       "      <td>0.0</td>\n",
       "      <td>1.0</td>\n",
       "      <td>0.0</td>\n",
       "    </tr>\n",
       "  </tbody>\n",
       "</table>\n",
       "</div>"
      ],
      "text/plain": [
       "    0    1    2    3    4    5    6    7    8    9    10   11   12   13   14  \\\n",
       "0  1.0  0.0  0.0  1.0  0.0  0.0  1.0  1.0  1.0  1.0  0.0  0.0  4.0  0.0  0.0   \n",
       "1  1.0  0.0  0.0  1.0  0.0  0.0  0.0  1.0  1.0  1.0  0.0  0.0  4.0  1.0  0.0   \n",
       "2  0.0  0.0  1.0  0.0  0.0  1.0  1.0  1.0  1.0  0.0  0.0  1.0  0.0  1.0  0.0   \n",
       "3  1.0  0.0  0.0  1.0  0.0  0.0  1.0  1.0  1.0  1.0  0.0  0.0  4.0  0.0  0.0   \n",
       "4  1.0  0.0  0.0  1.0  0.0  0.0  1.0  1.0  1.0  1.0  0.0  0.0  4.0  1.0  0.0   \n",
       "\n",
       "    15   16  \n",
       "0  1.0  0.0  \n",
       "1  1.0  0.0  \n",
       "2  0.0  3.0  \n",
       "3  1.0  0.0  \n",
       "4  1.0  0.0  "
      ]
     },
     "execution_count": 64,
     "metadata": {},
     "output_type": "execute_result"
    }
   ],
   "source": [
    "df.head()"
   ]
  },
  {
   "cell_type": "code",
   "execution_count": 65,
   "metadata": {
    "Collapsed": "false",
    "hidden": true
   },
   "outputs": [],
   "source": [
    "X = df[[0,1,2,3,4,5,6,7,8,9,10,11,12,13,14,15]].values\n",
    "Y = df[16].values"
   ]
  },
  {
   "cell_type": "code",
   "execution_count": 66,
   "metadata": {
    "Collapsed": "false",
    "hidden": true
   },
   "outputs": [],
   "source": [
    "Y = tf.constant(Y,dtype='int32')"
   ]
  },
  {
   "cell_type": "code",
   "execution_count": 67,
   "metadata": {
    "Collapsed": "false",
    "hidden": true
   },
   "outputs": [
    {
     "data": {
      "text/plain": [
       "((101, 16), TensorShape([101]))"
      ]
     },
     "execution_count": 67,
     "metadata": {},
     "output_type": "execute_result"
    }
   ],
   "source": [
    "X.shape, Y.shape"
   ]
  },
  {
   "cell_type": "code",
   "execution_count": 68,
   "metadata": {
    "Collapsed": "false",
    "hidden": true
   },
   "outputs": [],
   "source": [
    "# Parameters.\n",
    "learning_rate = 1e-3\n",
    "training_steps = 1000\n",
    "display_step = 50\n",
    "\n",
    "N = X.shape[0]\n",
    "\n",
    "num_features = X.shape[1]\n",
    "num_classes = 7 # 0-6"
   ]
  },
  {
   "cell_type": "code",
   "execution_count": 69,
   "metadata": {
    "Collapsed": "false",
    "hidden": true
   },
   "outputs": [],
   "source": [
    "W = tf.Variable(tf.random.normal((num_features, num_classes)), name='weight')\n",
    "b = tf.Variable(tf.random.normal([num_classes]), name='bias')"
   ]
  },
  {
   "cell_type": "code",
   "execution_count": 70,
   "metadata": {
    "Collapsed": "false",
    "hidden": true
   },
   "outputs": [],
   "source": [
    "# Logistic regression (Wx + b).\n",
    "def logistic_regression(x):\n",
    "    # Apply softmax to normalize the logits to a probability distribution.\n",
    "    return tf.nn.softmax(tf.matmul(x, W) + b)\n",
    "\n",
    "# Cross-Entropy loss function.\n",
    "def cross_entropy(y_pred, y_true):\n",
    "    # Encode label to a one hot vector.\n",
    "    y_true = tf.one_hot(y_true, depth=num_classes,dtype='float32')\n",
    "    # Clip prediction values to avoid log(0) error.\n",
    "    y_pred = tf.clip_by_value(y_pred, 1e-9, 1.)\n",
    "    # Compute cross-entropy.\n",
    "    return tf.reduce_mean(-tf.reduce_sum(y_true * tf.math.log(y_pred)))\n",
    "\n",
    "# Accuracy metric.\n",
    "def accuracy(y_pred, y_true):\n",
    "    # Predicted class is the index of highest score in prediction vector (i.e. argmax).\n",
    "    correct_prediction = tf.equal(tf.argmax(y_pred, 1), tf.cast(y_true, tf.int64))\n",
    "    return tf.reduce_mean(tf.cast(correct_prediction, tf.float32))\n",
    "\n",
    "# Stochastic gradient descent optimizer.\n",
    "optimizer = tf.optimizers.SGD(learning_rate)"
   ]
  },
  {
   "cell_type": "code",
   "execution_count": 71,
   "metadata": {
    "Collapsed": "false",
    "hidden": true
   },
   "outputs": [],
   "source": [
    "# Optimization process. \n",
    "def run_optimization(x, y):\n",
    "    # Wrap computation inside a GradientTape for automatic differentiation.\n",
    "    with tf.GradientTape() as g:\n",
    "        pred = logistic_regression(x)\n",
    "        loss = cross_entropy(pred, y)\n",
    "\n",
    "    # Compute gradients.\n",
    "    gradients = g.gradient(loss, [W, b])\n",
    "    \n",
    "    # Update W and b following gradients.\n",
    "    optimizer.apply_gradients(zip(gradients, [W, b]))"
   ]
  },
  {
   "cell_type": "code",
   "execution_count": 72,
   "metadata": {
    "Collapsed": "false",
    "hidden": true
   },
   "outputs": [
    {
     "name": "stdout",
     "output_type": "stream",
     "text": [
      "step: 50, loss: 127.008980, accuracy: 0.653465\n",
      "step: 100, loss: 77.531898, accuracy: 0.752475\n",
      "step: 150, loss: 56.870773, accuracy: 0.801980\n",
      "step: 200, loss: 44.896645, accuracy: 0.851485\n",
      "step: 250, loss: 37.219360, accuracy: 0.891089\n",
      "step: 300, loss: 31.910595, accuracy: 0.920792\n",
      "step: 350, loss: 28.002146, accuracy: 0.920792\n",
      "step: 400, loss: 24.982113, accuracy: 0.930693\n",
      "step: 450, loss: 22.562653, accuracy: 0.930693\n",
      "step: 500, loss: 20.570896, accuracy: 0.930693\n",
      "step: 550, loss: 18.896671, accuracy: 0.940594\n",
      "step: 600, loss: 17.466257, accuracy: 0.960396\n",
      "step: 650, loss: 16.228222, accuracy: 0.960396\n",
      "step: 700, loss: 15.145452, accuracy: 0.960396\n",
      "step: 750, loss: 14.190332, accuracy: 0.970297\n",
      "step: 800, loss: 13.341757, accuracy: 0.980198\n",
      "step: 850, loss: 12.583241, accuracy: 0.980198\n",
      "step: 900, loss: 11.901634, accuracy: 0.990099\n",
      "step: 950, loss: 11.286284, accuracy: 1.000000\n",
      "step: 1000, loss: 10.728416, accuracy: 1.000000\n"
     ]
    }
   ],
   "source": [
    "# Run training for the given number of steps.\n",
    "for step in range(1, training_steps + 1):\n",
    "    # Run the optimization to update W and b values.\n",
    "    run_optimization(X, Y)\n",
    "    \n",
    "    if step % display_step == 0:\n",
    "        pred = logistic_regression(X)\n",
    "        loss = cross_entropy(pred, Y)\n",
    "        acc = accuracy(pred, Y)\n",
    "        print(\"step: %i, loss: %f, accuracy: %f\" % (step, loss, acc))"
   ]
  },
  {
   "cell_type": "markdown",
   "metadata": {
    "Collapsed": "true"
   },
   "source": [
    "## Lab05 神经网络初探"
   ]
  },
  {
   "cell_type": "code",
   "execution_count": 74,
   "metadata": {
    "Collapsed": "false"
   },
   "outputs": [],
   "source": [
    "import tensorflow as tf\n",
    "import matplotlib.pyplot as plt\n",
    "import random"
   ]
  },
  {
   "cell_type": "markdown",
   "metadata": {
    "Collapsed": "false"
   },
   "source": [
    "### Softmax 多分类实现"
   ]
  },
  {
   "cell_type": "code",
   "execution_count": 85,
   "metadata": {
    "Collapsed": "false"
   },
   "outputs": [],
   "source": [
    "from __future__ import absolute_import, division, print_function\n",
    "\n",
    "import tensorflow as tf\n",
    "import numpy as np"
   ]
  },
  {
   "cell_type": "code",
   "execution_count": 86,
   "metadata": {
    "Collapsed": "false"
   },
   "outputs": [],
   "source": [
    "# MNIST dataset parameters.\n",
    "num_classes = 10 # 0 to 9 digits\n",
    "num_features = 784 # 28*28\n",
    "\n",
    "# Training parameters.\n",
    "learning_rate = 0.01\n",
    "training_steps = 1000\n",
    "batch_size = 256\n",
    "display_step = 50"
   ]
  },
  {
   "cell_type": "code",
   "execution_count": 87,
   "metadata": {
    "Collapsed": "false"
   },
   "outputs": [],
   "source": [
    "# Prepare MNIST data.\n",
    "from tensorflow.keras.datasets import mnist\n",
    "(x_train, y_train), (x_test, y_test) = mnist.load_data()\n",
    "# Convert to float32.\n",
    "x_train, x_test = np.array(x_train, np.float32), np.array(x_test, np.float32)\n",
    "# Flatten images to 1-D vector of 784 features (28*28).\n",
    "x_train, x_test = x_train.reshape([-1, num_features]), x_test.reshape([-1, num_features])\n",
    "# Normalize images value from [0, 255] to [0, 1].\n",
    "x_train, x_test = x_train / 255., x_test / 255."
   ]
  },
  {
   "cell_type": "code",
   "execution_count": 88,
   "metadata": {
    "Collapsed": "false"
   },
   "outputs": [],
   "source": [
    "# Use tf.data API to shuffle and batch data.\n",
    "train_data = tf.data.Dataset.from_tensor_slices((x_train, y_train))\n",
    "train_data = train_data.repeat().shuffle(5000).batch(batch_size).prefetch(1)"
   ]
  },
  {
   "cell_type": "code",
   "execution_count": 89,
   "metadata": {
    "Collapsed": "false"
   },
   "outputs": [],
   "source": [
    "# Weight of shape [784, 10], the 28*28 image features, and total number of classes.\n",
    "W = tf.Variable(tf.ones([num_features, num_classes]), name=\"weight\")\n",
    "# Bias of shape [10], the total number of classes.\n",
    "b = tf.Variable(tf.zeros([num_classes]), name=\"bias\")\n",
    "\n",
    "# Logistic regression (Wx + b).\n",
    "def logistic_regression(x):\n",
    "    # Apply softmax to normalize the logits to a probability distribution.\n",
    "    return tf.nn.softmax(tf.matmul(x, W) + b)\n",
    "\n",
    "# Cross-Entropy loss function.\n",
    "def cross_entropy(y_pred, y_true):\n",
    "    # Encode label to a one hot vector.\n",
    "    y_true = tf.one_hot(y_true, depth=num_classes)\n",
    "    # Clip prediction values to avoid log(0) error.\n",
    "    y_pred = tf.clip_by_value(y_pred, 1e-9, 1.)\n",
    "    # Compute cross-entropy.\n",
    "    return tf.reduce_mean(-tf.reduce_sum(y_true * tf.math.log(y_pred)))\n",
    "\n",
    "# Accuracy metric.\n",
    "def accuracy(y_pred, y_true):\n",
    "    # Predicted class is the index of highest score in prediction vector (i.e. argmax).\n",
    "    correct_prediction = tf.equal(tf.argmax(y_pred, 1), tf.cast(y_true, tf.int64))\n",
    "    return tf.reduce_mean(tf.cast(correct_prediction, tf.float32))\n",
    "\n",
    "# Stochastic gradient descent optimizer.\n",
    "optimizer = tf.optimizers.SGD(learning_rate)"
   ]
  },
  {
   "cell_type": "code",
   "execution_count": 90,
   "metadata": {
    "Collapsed": "false"
   },
   "outputs": [],
   "source": [
    "# Optimization process. \n",
    "def run_optimization(x, y):\n",
    "    # Wrap computation inside a GradientTape for automatic differentiation.\n",
    "    with tf.GradientTape() as g:\n",
    "        pred = logistic_regression(x)\n",
    "        loss = cross_entropy(pred, y)\n",
    "\n",
    "    # Compute gradients.\n",
    "    gradients = g.gradient(loss, [W, b])\n",
    "    \n",
    "    # Update W and b following gradients.\n",
    "    optimizer.apply_gradients(zip(gradients, [W, b]))"
   ]
  },
  {
   "cell_type": "code",
   "execution_count": 91,
   "metadata": {
    "Collapsed": "false",
    "collapsed": true,
    "jupyter": {
     "outputs_hidden": true
    }
   },
   "outputs": [
    {
     "name": "stdout",
     "output_type": "stream",
     "text": [
      "step: 50, loss: 767.078735, accuracy: 0.796875\n",
      "step: 100, loss: 684.470215, accuracy: 0.808594\n",
      "step: 150, loss: 515.767944, accuracy: 0.832031\n",
      "step: 200, loss: 669.437866, accuracy: 0.769531\n",
      "step: 250, loss: 566.289062, accuracy: 0.843750\n",
      "step: 300, loss: 662.290955, accuracy: 0.835938\n",
      "step: 350, loss: 589.762085, accuracy: 0.835938\n",
      "step: 400, loss: 741.440613, accuracy: 0.785156\n",
      "step: 450, loss: 575.987488, accuracy: 0.859375\n",
      "step: 500, loss: 587.495605, accuracy: 0.839844\n",
      "step: 550, loss: 432.354492, accuracy: 0.882812\n",
      "step: 600, loss: 712.148743, accuracy: 0.832031\n",
      "step: 650, loss: 399.105011, accuracy: 0.882812\n",
      "step: 700, loss: 489.869934, accuracy: 0.886719\n",
      "step: 750, loss: 538.771301, accuracy: 0.832031\n",
      "step: 800, loss: 492.558899, accuracy: 0.851562\n",
      "step: 850, loss: 683.367981, accuracy: 0.835938\n",
      "step: 900, loss: 515.052734, accuracy: 0.882812\n",
      "step: 950, loss: 746.603638, accuracy: 0.785156\n",
      "step: 1000, loss: 656.285034, accuracy: 0.843750\n"
     ]
    }
   ],
   "source": [
    "# Run training for the given number of steps.\n",
    "for step, (batch_x, batch_y) in enumerate(train_data.take(training_steps), 1):\n",
    "    # Run the optimization to update W and b values.\n",
    "    run_optimization(batch_x, batch_y)\n",
    "    \n",
    "    if step % display_step == 0:\n",
    "        pred = logistic_regression(batch_x)\n",
    "        loss = cross_entropy(pred, batch_y)\n",
    "        acc = accuracy(pred, batch_y)\n",
    "        print(\"step: %i, loss: %f, accuracy: %f\" % (step, loss, acc))"
   ]
  },
  {
   "cell_type": "code",
   "execution_count": 92,
   "metadata": {
    "Collapsed": "false"
   },
   "outputs": [
    {
     "name": "stdout",
     "output_type": "stream",
     "text": [
      "Test Accuracy: 0.837200\n"
     ]
    }
   ],
   "source": [
    "# Test model on validation set.\n",
    "pred = logistic_regression(x_test)\n",
    "print(\"Test Accuracy: %f\" % accuracy(pred, y_test))"
   ]
  },
  {
   "cell_type": "code",
   "execution_count": null,
   "metadata": {
    "Collapsed": "false"
   },
   "outputs": [],
   "source": [
    "# Visualize predictions.\n",
    "import matplotlib.pyplot as plt"
   ]
  },
  {
   "cell_type": "code",
   "execution_count": 93,
   "metadata": {
    "Collapsed": "false",
    "scrolled": true
   },
   "outputs": [
    {
     "data": {
      "image/png": "[encoded data removed]",
      "text/plain": [
       "<Figure size 432x288 with 1 Axes>"
      ]
     },
     "metadata": {
      "needs_background": "light"
     },
     "output_type": "display_data"
    },
    {
     "name": "stdout",
     "output_type": "stream",
     "text": [
      "Model prediction: 7\n"
     ]
    },
    {
     "data": {
      "image/png": "[encoded data removed]",
      "text/plain": [
       "<Figure size 432x288 with 1 Axes>"
      ]
     },
     "metadata": {
      "needs_background": "light"
     },
     "output_type": "display_data"
    },
    {
     "name": "stdout",
     "output_type": "stream",
     "text": [
      "Model prediction: 2\n"
     ]
    },
    {
     "data": {
      "image/png": "[encoded data removed]",
      "text/plain": [
       "<Figure size 432x288 with 1 Axes>"
      ]
     },
     "metadata": {
      "needs_background": "light"
     },
     "output_type": "display_data"
    },
    {
     "name": "stdout",
     "output_type": "stream",
     "text": [
      "Model prediction: 1\n"
     ]
    },
    {
     "data": {
      "image/png": "[encoded data removed]",
      "text/plain": [
       "<Figure size 432x288 with 1 Axes>"
      ]
     },
     "metadata": {
      "needs_background": "light"
     },
     "output_type": "display_data"
    },
    {
     "name": "stdout",
     "output_type": "stream",
     "text": [
      "Model prediction: 0\n"
     ]
    },
    {
     "data": {
      "image/png": "[encoded data removed]",
      "text/plain": [
       "<Figure size 432x288 with 1 Axes>"
      ]
     },
     "metadata": {
      "needs_background": "light"
     },
     "output_type": "display_data"
    },
    {
     "name": "stdout",
     "output_type": "stream",
     "text": [
      "Model prediction: 4\n"
     ]
    }
   ],
   "source": [
    "# Predict 5 images from validation set.\n",
    "n_images = 5\n",
    "test_images = x_test[:n_images]\n",
    "predictions = logistic_regression(test_images)\n",
    "\n",
    "# Display image and model prediction.\n",
    "for i in range(n_images):\n",
    "    plt.imshow(np.reshape(test_images[i], [28, 28]), cmap='gray')\n",
    "    plt.show()\n",
    "    print(\"Model prediction: %i\" % np.argmax(predictions.numpy()[i]))"
   ]
  },
  {
   "cell_type": "markdown",
   "metadata": {
    "Collapsed": "false"
   },
   "source": [
    "### 多层神经网络"
   ]
  },
  {
   "cell_type": "code",
   "execution_count": 66,
   "metadata": {
    "Collapsed": "false"
   },
   "outputs": [],
   "source": [
    "from __future__ import absolute_import, division, print_function\n",
    "\n",
    "import tensorflow as tf\n",
    "import numpy as np"
   ]
  },
  {
   "cell_type": "code",
   "execution_count": 67,
   "metadata": {
    "Collapsed": "false"
   },
   "outputs": [],
   "source": [
    "# MNIST dataset parameters.\n",
    "num_classes = 10 # total classes (0-9 digits).\n",
    "num_features = 784 # data features (img shape: 28*28).\n",
    "\n",
    "# Training parameters.\n",
    "learning_rate = 0.001\n",
    "training_steps = 3000\n",
    "batch_size = 256\n",
    "display_step = 100\n",
    "\n",
    "# Network parameters.\n",
    "n_hidden_1 = 128 # 1st layer number of neurons.\n",
    "n_hidden_2 = 256 # 2nd layer number of neurons."
   ]
  },
  {
   "cell_type": "code",
   "execution_count": 68,
   "metadata": {
    "Collapsed": "false"
   },
   "outputs": [],
   "source": [
    "# Prepare MNIST data.\n",
    "from tensorflow.keras.datasets import mnist\n",
    "(x_train, y_train), (x_test, y_test) = mnist.load_data()\n",
    "# Convert to float32.\n",
    "x_train, x_test = np.array(x_train, np.float32), np.array(x_test, np.float32)\n",
    "# Flatten images to 1-D vector of 784 features (28*28).\n",
    "x_train, x_test = x_train.reshape([-1, num_features]), x_test.reshape([-1, num_features])\n",
    "# Normalize images value from [0, 255] to [0, 1].\n",
    "x_train, x_test = x_train / 255., x_test / 255."
   ]
  },
  {
   "cell_type": "code",
   "execution_count": 69,
   "metadata": {
    "Collapsed": "false"
   },
   "outputs": [],
   "source": [
    "# Use tf.data API to shuffle and batch data.\n",
    "train_data = tf.data.Dataset.from_tensor_slices((x_train, y_train))\n",
    "train_data = train_data.repeat().shuffle(5000).batch(batch_size).prefetch(1)"
   ]
  },
  {
   "cell_type": "code",
   "execution_count": 70,
   "metadata": {
    "Collapsed": "false"
   },
   "outputs": [],
   "source": [
    "# Store layers weight & bias\n",
    "\n",
    "# A random value generator to initialize weights.\n",
    "random_normal = tf.initializers.RandomNormal()\n",
    "\n",
    "weights = {\n",
    "    'h1': tf.Variable(random_normal([num_features, n_hidden_1])),\n",
    "    'h2': tf.Variable(random_normal([n_hidden_1, n_hidden_2])),\n",
    "    'out': tf.Variable(random_normal([n_hidden_2, num_classes]))\n",
    "}\n",
    "biases = {\n",
    "    'b1': tf.Variable(tf.zeros([n_hidden_1])),\n",
    "    'b2': tf.Variable(tf.zeros([n_hidden_2])),\n",
    "    'out': tf.Variable(tf.zeros([num_classes]))\n",
    "}"
   ]
  },
  {
   "cell_type": "code",
   "execution_count": 71,
   "metadata": {
    "Collapsed": "false"
   },
   "outputs": [],
   "source": [
    "# Create model.\n",
    "def neural_net(x):\n",
    "    # Hidden fully connected layer with 128 neurons.\n",
    "    layer_1 = tf.add(tf.matmul(x, weights['h1']), biases['b1'])\n",
    "    # Apply sigmoid to layer_1 output for non-linearity.\n",
    "    layer_1 = tf.nn.sigmoid(layer_1)\n",
    "    \n",
    "    # Hidden fully connected layer with 256 neurons.\n",
    "    layer_2 = tf.add(tf.matmul(layer_1, weights['h2']), biases['b2'])\n",
    "    # Apply sigmoid to layer_2 output for non-linearity.\n",
    "    layer_2 = tf.nn.sigmoid(layer_2)\n",
    "    \n",
    "    # Output fully connected layer with a neuron for each class.\n",
    "    out_layer = tf.matmul(layer_2, weights['out']) + biases['out']\n",
    "    # Apply softmax to normalize the logits to a probability distribution.\n",
    "    return tf.nn.softmax(out_layer)"
   ]
  },
  {
   "cell_type": "code",
   "execution_count": 72,
   "metadata": {
    "Collapsed": "false"
   },
   "outputs": [],
   "source": [
    "# Cross-Entropy loss function.\n",
    "def cross_entropy(y_pred, y_true):\n",
    "    # Encode label to a one hot vector.\n",
    "    y_true = tf.one_hot(y_true, depth=num_classes)\n",
    "    # Clip prediction values to avoid log(0) error.\n",
    "    y_pred = tf.clip_by_value(y_pred, 1e-9, 1.)\n",
    "    # Compute cross-entropy.\n",
    "    return tf.reduce_mean(-tf.reduce_sum(y_true * tf.math.log(y_pred)))\n",
    "\n",
    "# Accuracy metric.\n",
    "def accuracy(y_pred, y_true):\n",
    "    # Predicted class is the index of highest score in prediction vector (i.e. argmax).\n",
    "    correct_prediction = tf.equal(tf.argmax(y_pred, 1), tf.cast(y_true, tf.int64))\n",
    "    return tf.reduce_mean(tf.cast(correct_prediction, tf.float32), axis=-1)\n",
    "\n",
    "# Stochastic gradient descent optimizer.\n",
    "optimizer = tf.optimizers.SGD(learning_rate)"
   ]
  },
  {
   "cell_type": "code",
   "execution_count": 78,
   "metadata": {
    "Collapsed": "false"
   },
   "outputs": [],
   "source": [
    "# Optimization process. \n",
    "def run_optimization(x, y):\n",
    "    # Wrap computation inside a GradientTape for automatic differentiation.\n",
    "    with tf.GradientTape() as g:\n",
    "        pred = neural_net(x)\n",
    "        loss = cross_entropy(pred, y)\n",
    "        \n",
    "    # Variables to update, i.e. trainable variables.\n",
    "    trainable_variables = list(weights.values()) + list(biases.values())\n",
    "\n",
    "    # Compute gradients.\n",
    "    gradients = g.gradient(loss, trainable_variables)\n",
    "    \n",
    "    # Update W and b following gradients.\n",
    "    optimizer.apply_gradients(zip(gradients, trainable_variables))"
   ]
  },
  {
   "cell_type": "code",
   "execution_count": 79,
   "metadata": {
    "Collapsed": "false"
   },
   "outputs": [
    {
     "data": {
      "text/plain": [
       "builtin_function_or_method"
      ]
     },
     "execution_count": 79,
     "metadata": {},
     "output_type": "execute_result"
    }
   ],
   "source": [
    "type(weights.values)"
   ]
  },
  {
   "cell_type": "code",
   "execution_count": 81,
   "metadata": {
    "Collapsed": "false"
   },
   "outputs": [
    {
     "name": "stdout",
     "output_type": "stream",
     "text": [
      "step: 100, loss: 567.685974, accuracy: 0.218750\n",
      "step: 200, loss: 424.903931, accuracy: 0.546875\n",
      "step: 300, loss: 250.021454, accuracy: 0.703125\n",
      "step: 400, loss: 164.471985, accuracy: 0.863281\n",
      "step: 500, loss: 134.956329, accuracy: 0.851562\n",
      "step: 600, loss: 137.645355, accuracy: 0.847656\n",
      "step: 700, loss: 83.738953, accuracy: 0.921875\n",
      "step: 800, loss: 94.185120, accuracy: 0.906250\n",
      "step: 900, loss: 112.069740, accuracy: 0.875000\n",
      "step: 1000, loss: 111.484192, accuracy: 0.890625\n",
      "step: 1100, loss: 80.294548, accuracy: 0.917969\n",
      "step: 1200, loss: 78.374878, accuracy: 0.910156\n",
      "step: 1300, loss: 76.777313, accuracy: 0.902344\n",
      "step: 1400, loss: 69.667892, accuracy: 0.921875\n",
      "step: 1500, loss: 78.908661, accuracy: 0.914062\n",
      "step: 1600, loss: 63.928055, accuracy: 0.914062\n",
      "step: 1700, loss: 55.316723, accuracy: 0.941406\n",
      "step: 1800, loss: 69.437943, accuracy: 0.917969\n",
      "step: 1900, loss: 38.454224, accuracy: 0.964844\n",
      "step: 2000, loss: 64.476868, accuracy: 0.917969\n",
      "step: 2100, loss: 52.446049, accuracy: 0.921875\n",
      "step: 2200, loss: 70.319244, accuracy: 0.914062\n",
      "step: 2300, loss: 53.872803, accuracy: 0.941406\n",
      "step: 2400, loss: 52.667664, accuracy: 0.941406\n",
      "step: 2500, loss: 60.964622, accuracy: 0.917969\n",
      "step: 2600, loss: 69.327759, accuracy: 0.902344\n",
      "step: 2700, loss: 57.947212, accuracy: 0.917969\n",
      "step: 2800, loss: 64.758553, accuracy: 0.933594\n",
      "step: 2900, loss: 42.979797, accuracy: 0.949219\n",
      "step: 3000, loss: 62.280907, accuracy: 0.941406\n"
     ]
    }
   ],
   "source": [
    "# Run training for the given number of steps.\n",
    "for step, (batch_x, batch_y) in enumerate(train_data.take(training_steps), 1):\n",
    "    # Run the optimization to update W and b values.\n",
    "    run_optimization(batch_x, batch_y)\n",
    "    \n",
    "    if step % display_step == 0:\n",
    "        pred = neural_net(batch_x)\n",
    "        loss = cross_entropy(pred, batch_y)\n",
    "        acc = accuracy(pred, batch_y)\n",
    "        print(\"step: %i, loss: %f, accuracy: %f\" % (step, loss, acc))"
   ]
  },
  {
   "cell_type": "code",
   "execution_count": 83,
   "metadata": {
    "Collapsed": "false"
   },
   "outputs": [
    {
     "name": "stdout",
     "output_type": "stream",
     "text": [
      "Test Accuracy: 0.935400\n"
     ]
    }
   ],
   "source": [
    "# Test model on validation set.\n",
    "pred = neural_net(x_test)\n",
    "print(\"Test Accuracy: %f\" % accuracy(pred, y_test))"
   ]
  },
  {
   "cell_type": "code",
   "execution_count": 84,
   "metadata": {
    "Collapsed": "false",
    "collapsed": true,
    "jupyter": {
     "outputs_hidden": true
    }
   },
   "outputs": [
    {
     "data": {
      "image/png": "[encoded data removed]",
      "text/plain": [
       "<Figure size 432x288 with 1 Axes>"
      ]
     },
     "metadata": {
      "needs_background": "light"
     },
     "output_type": "display_data"
    },
    {
     "name": "stdout",
     "output_type": "stream",
     "text": [
      "Model prediction: 7\n"
     ]
    },
    {
     "data": {
      "image/png": "[encoded data removed]",
      "text/plain": [
       "<Figure size 432x288 with 1 Axes>"
      ]
     },
     "metadata": {
      "needs_background": "light"
     },
     "output_type": "display_data"
    },
    {
     "name": "stdout",
     "output_type": "stream",
     "text": [
      "Model prediction: 2\n"
     ]
    },
    {
     "data": {
      "image/png": "[encoded data removed]",
      "text/plain": [
       "<Figure size 432x288 with 1 Axes>"
      ]
     },
     "metadata": {
      "needs_background": "light"
     },
     "output_type": "display_data"
    },
    {
     "name": "stdout",
     "output_type": "stream",
     "text": [
      "Model prediction: 1\n"
     ]
    },
    {
     "data": {
      "image/png": "[encoded data removed]",
      "text/plain": [
       "<Figure size 432x288 with 1 Axes>"
      ]
     },
     "metadata": {
      "needs_background": "light"
     },
     "output_type": "display_data"
    },
    {
     "name": "stdout",
     "output_type": "stream",
     "text": [
      "Model prediction: 0\n"
     ]
    },
    {
     "data": {
      "image/png": "[encoded data removed]",
      "text/plain": [
       "<Figure size 432x288 with 1 Axes>"
      ]
     },
     "metadata": {
      "needs_background": "light"
     },
     "output_type": "display_data"
    },
    {
     "name": "stdout",
     "output_type": "stream",
     "text": [
      "Model prediction: 4\n"
     ]
    }
   ],
   "source": [
    "# Visualize predictions.\n",
    "import matplotlib.pyplot as plt\n",
    "\n",
    "# Predict 5 images from validation set.\n",
    "n_images = 5\n",
    "test_images = x_test[:n_images]\n",
    "predictions = neural_net(test_images)\n",
    "\n",
    "# Display image and model prediction.\n",
    "for i in range(n_images):\n",
    "    plt.imshow(np.reshape(test_images[i], [28, 28]), cmap='gray')\n",
    "    plt.show()\n",
    "    print(\"Model prediction: %i\" % np.argmax(predictions.numpy()[i]))"
   ]
  },
  {
   "cell_type": "code",
   "execution_count": null,
   "metadata": {
    "Collapsed": "false"
   },
   "outputs": [],
   "source": []
  },
  {
   "cell_type": "markdown",
   "metadata": {
    "Collapsed": "false"
   },
   "source": [
    "### Keras实现"
   ]
  },
  {
   "cell_type": "code",
   "execution_count": 76,
   "metadata": {
    "Collapsed": "false"
   },
   "outputs": [],
   "source": [
    "from tensorflow import keras\n",
    "from tensorflow.keras.datasets import mnist\n",
    "from tensorflow.keras.models import Sequential\n",
    "from tensorflow.keras.layers import Dense, Dropout"
   ]
  },
  {
   "cell_type": "code",
   "execution_count": 77,
   "metadata": {
    "Collapsed": "false"
   },
   "outputs": [],
   "source": [
    "batch_size = 128\n",
    "num_classes = 10\n",
    "epochs = 12"
   ]
  },
  {
   "cell_type": "code",
   "execution_count": 79,
   "metadata": {
    "Collapsed": "false"
   },
   "outputs": [
    {
     "name": "stdout",
     "output_type": "stream",
     "text": [
      "60000 train samples\n",
      "10000 test samples\n"
     ]
    }
   ],
   "source": [
    "# ==============================================================================\n",
    "# prepare data\n",
    "(X_train, y_train), (X_test, y_test) = mnist.load_data()\n",
    "\n",
    "X_train = X_train.reshape(60000, 784)\n",
    "X_test = X_test.reshape(10000, 784)\n",
    "X_train = X_train.astype('float32')\n",
    "X_test = X_test.astype('float32')\n",
    "X_train /= 255\n",
    "X_test /= 255\n",
    "print(X_train.shape[0], 'train samples')\n",
    "print(X_test.shape[0], 'test samples')\n",
    "\n",
    "y_train = keras.utils.to_categorical(y_train, num_classes)\n",
    "y_test = keras.utils.to_categorical(y_test, num_classes)"
   ]
  },
  {
   "cell_type": "code",
   "execution_count": 83,
   "metadata": {
    "Collapsed": "false"
   },
   "outputs": [
    {
     "data": {
      "text/plain": [
       "(60000, 784)"
      ]
     },
     "execution_count": 83,
     "metadata": {},
     "output_type": "execute_result"
    }
   ],
   "source": [
    "X_train.shape"
   ]
  },
  {
   "cell_type": "code",
   "execution_count": 87,
   "metadata": {
    "Collapsed": "false"
   },
   "outputs": [
    {
     "name": "stdout",
     "output_type": "stream",
     "text": [
      "Train on 60000 samples\n",
      "Epoch 1/12\n",
      "60000/60000 [==============================] - 2s 40us/sample - loss: 0.3622 - accuracy: 0.9016\n",
      "Epoch 2/12\n",
      "60000/60000 [==============================] - 1s 23us/sample - loss: 0.1655 - accuracy: 0.9522\n",
      "Epoch 3/12\n",
      "60000/60000 [==============================] - 1s 20us/sample - loss: 0.1196 - accuracy: 0.9656\n",
      "Epoch 4/12\n",
      "60000/60000 [==============================] - 1s 21us/sample - loss: 0.0935 - accuracy: 0.9736\n",
      "Epoch 5/12\n",
      "60000/60000 [==============================] - 1s 21us/sample - loss: 0.0757 - accuracy: 0.9783\n",
      "Epoch 6/12\n",
      "60000/60000 [==============================] - 1s 21us/sample - loss: 0.0630 - accuracy: 0.9819\n",
      "Epoch 7/12\n",
      "60000/60000 [==============================] - 1s 20us/sample - loss: 0.0526 - accuracy: 0.9848\n",
      "Epoch 8/12\n",
      "60000/60000 [==============================] - 1s 23us/sample - loss: 0.0444 - accuracy: 0.9876\n",
      "Epoch 9/12\n",
      "60000/60000 [==============================] - 1s 22us/sample - loss: 0.0377 - accuracy: 0.9894\n",
      "Epoch 10/12\n",
      "60000/60000 [==============================] - 1s 22us/sample - loss: 0.0325 - accuracy: 0.9912\n",
      "Epoch 11/12\n",
      "60000/60000 [==============================] - 1s 24us/sample - loss: 0.0276 - accuracy: 0.9926\n",
      "Epoch 12/12\n",
      "60000/60000 [==============================] - 1s 23us/sample - loss: 0.0228 - accuracy: 0.9943\n"
     ]
    }
   ],
   "source": [
    "# ==============================================================================\n",
    "# build model\n",
    "model = keras.Sequential([\n",
    "    keras.layers.Dense(128, activation='relu',input_shape=(28*28,)),\n",
    "    keras.layers.Dense(num_classes, activation='softmax')\n",
    "])\n",
    "\n",
    "model.compile(loss='categorical_crossentropy',\n",
    "              optimizer='adam', metrics=['accuracy'])\n",
    "\n",
    "history = model.fit(X_train, y_train,\n",
    "                    batch_size=batch_size,\n",
    "                    epochs=epochs,\n",
    "                    verbose=1)"
   ]
  },
  {
   "cell_type": "code",
   "execution_count": 88,
   "metadata": {
    "Collapsed": "false"
   },
   "outputs": [
    {
     "name": "stdout",
     "output_type": "stream",
     "text": [
      "10000/10000 [==============================] - 0s 28us/sample - loss: 0.0739 - accuracy: 0.9779\n",
      "\n",
      "Test loss: 0.07387930654585362\n",
      "Test accuracy: 0.9779\n"
     ]
    }
   ],
   "source": [
    "# ==============================================================================\n",
    "# predict\n",
    "score = model.evaluate(X_test, y_test, batch_size=batch_size)\n",
    "print('\\nTest loss:', score[0])\n",
    "print('Test accuracy:', score[1])"
   ]
  },
  {
   "cell_type": "code",
   "execution_count": null,
   "metadata": {
    "Collapsed": "false"
   },
   "outputs": [],
   "source": []
  }
 ],
 "metadata": {
  "kernelspec": {
   "display_name": "tf2",
   "language": "python",
   "name": "tf2"
  },
  "language_info": {
   "codemirror_mode": {
    "name": "ipython",
    "version": 3
   },
   "file_extension": ".py",
   "mimetype": "text/x-python",
   "name": "python",
   "nbconvert_exporter": "python",
   "pygments_lexer": "ipython3",
   "version": "3.5.6"
  }
 },
 "nbformat": 4,
 "nbformat_minor": 4
}
